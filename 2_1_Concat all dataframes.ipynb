{
 "cells": [
  {
   "cell_type": "markdown",
   "metadata": {
    "toc": true
   },
   "source": [
    "<h1>Table of Contents<span class=\"tocSkip\"></span></h1>\n",
    "<div class=\"toc\"><ul class=\"toc-item\"><li><ul class=\"toc-item\"><li><ul class=\"toc-item\"><li><span><a href=\"#Datensätze-(einzelne-Samples)-aneinanderhängen\" data-toc-modified-id=\"Datensätze-(einzelne-Samples)-aneinanderhängen-0.0.1\"><span class=\"toc-item-num\">0.0.1&nbsp;&nbsp;</span>Datensätze (einzelne Samples) aneinanderhängen</a></span></li><li><span><a href=\"#Funktionen-dran-mergen\" data-toc-modified-id=\"Funktionen-dran-mergen-0.0.2\"><span class=\"toc-item-num\">0.0.2&nbsp;&nbsp;</span>Funktionen dran mergen</a></span></li></ul></li></ul></li><li><span><a href=\"#Ende-Concat\" data-toc-modified-id=\"Ende-Concat-1\"><span class=\"toc-item-num\">1&nbsp;&nbsp;</span>Ende Concat</a></span></li></ul></div>"
   ]
  },
  {
   "cell_type": "raw",
   "metadata": {},
   "source": [
    "import pandas as pd"
   ]
  },
  {
   "cell_type": "markdown",
   "metadata": {},
   "source": [
    "### Datensätze (einzelne Samples) aneinanderhängen"
   ]
  },
  {
   "cell_type": "code",
   "execution_count": 10,
   "metadata": {},
   "outputs": [
    {
     "data": {
      "text/plain": [
       "(9521, 24)"
      ]
     },
     "execution_count": 10,
     "metadata": {},
     "output_type": "execute_result"
    }
   ],
   "source": [
    "df_all_1 = pd.read_csv(\"df_all_1-500_2019-07-20.csv\", sep=\";\") \n",
    "df_all_1.shape\n",
    "# key a"
   ]
  },
  {
   "cell_type": "code",
   "execution_count": 11,
   "metadata": {},
   "outputs": [
    {
     "data": {
      "text/plain": [
       "(14607, 24)"
      ]
     },
     "execution_count": 11,
     "metadata": {},
     "output_type": "execute_result"
    }
   ],
   "source": [
    "df_all_2 = pd.read_csv(\"df_all_501-1000_2019-07-20.csv\", sep=\";\") \n",
    "df_all_2.shape\n",
    "# key b"
   ]
  },
  {
   "cell_type": "code",
   "execution_count": 12,
   "metadata": {},
   "outputs": [
    {
     "data": {
      "text/plain": [
       "(5888, 24)"
      ]
     },
     "execution_count": 12,
     "metadata": {},
     "output_type": "execute_result"
    }
   ],
   "source": [
    "df_all_3 = pd.read_csv(\"df_all_1001-1500_2019-07-20.csv\", sep=\";\") \n",
    "df_all_3.shape\n",
    "# key c"
   ]
  },
  {
   "cell_type": "code",
   "execution_count": 13,
   "metadata": {},
   "outputs": [
    {
     "data": {
      "text/plain": [
       "(4663, 24)"
      ]
     },
     "execution_count": 13,
     "metadata": {},
     "output_type": "execute_result"
    }
   ],
   "source": [
    "df_all_4 = pd.read_csv(\"df_all_1501-2000_2019-07-20.csv\", sep=\";\") \n",
    "df_all_4.shape\n",
    "# key d"
   ]
  },
  {
   "cell_type": "code",
   "execution_count": 14,
   "metadata": {},
   "outputs": [
    {
     "data": {
      "text/plain": [
       "(4580, 24)"
      ]
     },
     "execution_count": 14,
     "metadata": {},
     "output_type": "execute_result"
    }
   ],
   "source": [
    "df_all_5 = pd.read_csv(\"df_all_2001-2500_2019-07-20.csv\", sep=\";\") \n",
    "df_all_5.shape\n",
    "# key e"
   ]
  },
  {
   "cell_type": "code",
   "execution_count": 15,
   "metadata": {},
   "outputs": [
    {
     "data": {
      "text/plain": [
       "(1227, 24)"
      ]
     },
     "execution_count": 15,
     "metadata": {},
     "output_type": "execute_result"
    }
   ],
   "source": [
    "df_all_6 = pd.read_csv(\"df_all_2501-3000_2019-07-20.csv\", sep=\";\") \n",
    "df_all_6.shape\n",
    "# key f"
   ]
  },
  {
   "cell_type": "code",
   "execution_count": 16,
   "metadata": {},
   "outputs": [
    {
     "data": {
      "text/plain": [
       "(9972, 24)"
      ]
     },
     "execution_count": 16,
     "metadata": {},
     "output_type": "execute_result"
    }
   ],
   "source": [
    "df_all_7 = pd.read_csv(\"df_all_3001-3872_2019-07-20.csv\", sep=\";\") \n",
    "df_all_7.shape\n",
    "# key g"
   ]
  },
  {
   "cell_type": "code",
   "execution_count": 17,
   "metadata": {},
   "outputs": [],
   "source": [
    "df_all = pd.concat([df_all_1, df_all_2, df_all_3, df_all_4, df_all_5, df_all_6, df_all_7], keys=[\"a\", \"b\", \"c\", \"d\", \"e\", \"f\", \"g\"])"
   ]
  },
  {
   "cell_type": "code",
   "execution_count": 18,
   "metadata": {},
   "outputs": [
    {
     "data": {
      "text/plain": [
       "(50458, 24)"
      ]
     },
     "execution_count": 18,
     "metadata": {},
     "output_type": "execute_result"
    }
   ],
   "source": [
    "df_all.shape"
   ]
  },
  {
   "cell_type": "markdown",
   "metadata": {},
   "source": [
    "### Funktionen dran mergen"
   ]
  },
  {
   "cell_type": "code",
   "execution_count": 19,
   "metadata": {},
   "outputs": [],
   "source": [
    "df_functions = pd.read_csv(\"df_functions_2019-07-20.csv\", sep=\";\") "
   ]
  },
  {
   "cell_type": "code",
   "execution_count": 20,
   "metadata": {},
   "outputs": [
    {
     "data": {
      "text/html": [
       "<div>\n",
       "<style scoped>\n",
       "    .dataframe tbody tr th:only-of-type {\n",
       "        vertical-align: middle;\n",
       "    }\n",
       "\n",
       "    .dataframe tbody tr th {\n",
       "        vertical-align: top;\n",
       "    }\n",
       "\n",
       "    .dataframe thead th {\n",
       "        text-align: right;\n",
       "    }\n",
       "</style>\n",
       "<table border=\"1\" class=\"dataframe\">\n",
       "  <thead>\n",
       "    <tr style=\"text-align: right;\">\n",
       "      <th></th>\n",
       "      <th>id2</th>\n",
       "      <th>label2</th>\n",
       "      <th>label1</th>\n",
       "      <th>id1</th>\n",
       "    </tr>\n",
       "  </thead>\n",
       "  <tbody>\n",
       "    <tr>\n",
       "      <th>0</th>\n",
       "      <td>10012000</td>\n",
       "      <td>Automatisierungstechnik</td>\n",
       "      <td>Ingenieure und technische Berufe</td>\n",
       "      <td>10000000</td>\n",
       "    </tr>\n",
       "    <tr>\n",
       "      <th>1</th>\n",
       "      <td>10006000</td>\n",
       "      <td>Bauwesen</td>\n",
       "      <td>Ingenieure und technische Berufe</td>\n",
       "      <td>10000000</td>\n",
       "    </tr>\n",
       "  </tbody>\n",
       "</table>\n",
       "</div>"
      ],
      "text/plain": [
       "        id2                   label2                            label1  \\\n",
       "0  10012000  Automatisierungstechnik  Ingenieure und technische Berufe   \n",
       "1  10006000                 Bauwesen  Ingenieure und technische Berufe   \n",
       "\n",
       "        id1  \n",
       "0  10000000  \n",
       "1  10000000  "
      ]
     },
     "execution_count": 20,
     "metadata": {},
     "output_type": "execute_result"
    }
   ],
   "source": [
    "df_functions.head(2)"
   ]
  },
  {
   "cell_type": "code",
   "execution_count": 22,
   "metadata": {},
   "outputs": [],
   "source": [
    "df_functions.rename(columns={'id2': 'function', \n",
    "                             'label2': 'function_label_level2', \n",
    "                             'id1': 'function_id_level_1',\n",
    "                             'label1': 'function_label_level1'}, \n",
    "                    inplace=True)"
   ]
  },
  {
   "cell_type": "code",
   "execution_count": 23,
   "metadata": {},
   "outputs": [
    {
     "data": {
      "text/html": [
       "<div>\n",
       "<style scoped>\n",
       "    .dataframe tbody tr th:only-of-type {\n",
       "        vertical-align: middle;\n",
       "    }\n",
       "\n",
       "    .dataframe tbody tr th {\n",
       "        vertical-align: top;\n",
       "    }\n",
       "\n",
       "    .dataframe thead th {\n",
       "        text-align: right;\n",
       "    }\n",
       "</style>\n",
       "<table border=\"1\" class=\"dataframe\">\n",
       "  <thead>\n",
       "    <tr style=\"text-align: right;\">\n",
       "      <th></th>\n",
       "      <th>function</th>\n",
       "      <th>function_label_level2</th>\n",
       "      <th>function_label_level1</th>\n",
       "      <th>function_id_level_1</th>\n",
       "    </tr>\n",
       "  </thead>\n",
       "  <tbody>\n",
       "    <tr>\n",
       "      <th>0</th>\n",
       "      <td>10012000</td>\n",
       "      <td>Automatisierungstechnik</td>\n",
       "      <td>Ingenieure und technische Berufe</td>\n",
       "      <td>10000000</td>\n",
       "    </tr>\n",
       "    <tr>\n",
       "      <th>1</th>\n",
       "      <td>10006000</td>\n",
       "      <td>Bauwesen</td>\n",
       "      <td>Ingenieure und technische Berufe</td>\n",
       "      <td>10000000</td>\n",
       "    </tr>\n",
       "    <tr>\n",
       "      <th>2</th>\n",
       "      <td>10007000</td>\n",
       "      <td>Chemietechnik</td>\n",
       "      <td>Ingenieure und technische Berufe</td>\n",
       "      <td>10000000</td>\n",
       "    </tr>\n",
       "  </tbody>\n",
       "</table>\n",
       "</div>"
      ],
      "text/plain": [
       "   function    function_label_level2             function_label_level1  \\\n",
       "0  10012000  Automatisierungstechnik  Ingenieure und technische Berufe   \n",
       "1  10006000                 Bauwesen  Ingenieure und technische Berufe   \n",
       "2  10007000            Chemietechnik  Ingenieure und technische Berufe   \n",
       "\n",
       "   function_id_level_1  \n",
       "0             10000000  \n",
       "1             10000000  \n",
       "2             10000000  "
      ]
     },
     "execution_count": 23,
     "metadata": {},
     "output_type": "execute_result"
    }
   ],
   "source": [
    "df_functions.head(3)"
   ]
  },
  {
   "cell_type": "code",
   "execution_count": 24,
   "metadata": {},
   "outputs": [
    {
     "data": {
      "text/plain": [
       "(242, 4)"
      ]
     },
     "execution_count": 24,
     "metadata": {},
     "output_type": "execute_result"
    }
   ],
   "source": [
    "df_functions.shape"
   ]
  },
  {
   "cell_type": "code",
   "execution_count": 25,
   "metadata": {},
   "outputs": [
    {
     "data": {
      "text/plain": [
       "(50458, 24)"
      ]
     },
     "execution_count": 25,
     "metadata": {},
     "output_type": "execute_result"
    }
   ],
   "source": [
    "df_all.shape"
   ]
  },
  {
   "cell_type": "code",
   "execution_count": 27,
   "metadata": {},
   "outputs": [],
   "source": [
    "df = pd.merge(df_all, df_functions, on='function', how='left')"
   ]
  },
  {
   "cell_type": "code",
   "execution_count": 28,
   "metadata": {},
   "outputs": [
    {
     "data": {
      "text/plain": [
       "(50458, 27)"
      ]
     },
     "execution_count": 28,
     "metadata": {},
     "output_type": "execute_result"
    }
   ],
   "source": [
    "df.shape"
   ]
  },
  {
   "cell_type": "code",
   "execution_count": 29,
   "metadata": {},
   "outputs": [
    {
     "name": "stdout",
     "output_type": "stream",
     "text": [
      "<class 'pandas.core.frame.DataFrame'>\n",
      "Int64Index: 50458 entries, 0 to 50457\n",
      "Data columns (total 27 columns):\n",
      "title                     50458 non-null object\n",
      "company                   50458 non-null object\n",
      "company_link              50458 non-null object\n",
      "location                  50458 non-null object\n",
      "contract_type             50458 non-null object\n",
      "wrk_time                  50458 non-null object\n",
      "date                      50458 non-null object\n",
      "job_url                   50458 non-null object\n",
      "sections                  50458 non-null object\n",
      "urls                      50458 non-null object\n",
      "searches                  50458 non-null object\n",
      "job_count                 50458 non-null int64\n",
      "search                    50458 non-null object\n",
      "function                  50458 non-null int64\n",
      "region                    50458 non-null int64\n",
      "company_name              49887 non-null object\n",
      "company_location          49649 non-null object\n",
      "company_sector            22256 non-null object\n",
      "company_rating            20438 non-null float64\n",
      "company_rating_count      20304 non-null float64\n",
      "company_job_count         49079 non-null float64\n",
      "company_employee_count    25591 non-null object\n",
      "company_website           18846 non-null object\n",
      "company_metadatablock     35334 non-null object\n",
      "function_label_level2     50458 non-null object\n",
      "function_label_level1     50458 non-null object\n",
      "function_id_level_1       50458 non-null int64\n",
      "dtypes: float64(3), int64(4), object(20)\n",
      "memory usage: 10.8+ MB\n"
     ]
    }
   ],
   "source": [
    "df.info()"
   ]
  },
  {
   "cell_type": "code",
   "execution_count": 30,
   "metadata": {},
   "outputs": [],
   "source": [
    "df.to_csv(\"df_1-3872_2019-07-20.csv\", index=False, sep=\";\", encoding='utf-8')"
   ]
  },
  {
   "cell_type": "markdown",
   "metadata": {},
   "source": [
    "# Ende Concat"
   ]
  },
  {
   "cell_type": "markdown",
   "metadata": {},
   "source": [
    "---"
   ]
  }
 ],
 "metadata": {
  "kernelspec": {
   "display_name": "Python 3",
   "language": "python",
   "name": "python3"
  },
  "language_info": {
   "codemirror_mode": {
    "name": "ipython",
    "version": 3
   },
   "file_extension": ".py",
   "mimetype": "text/x-python",
   "name": "python",
   "nbconvert_exporter": "python",
   "pygments_lexer": "ipython3",
   "version": "3.7.3"
  },
  "toc": {
   "base_numbering": 1,
   "nav_menu": {},
   "number_sections": true,
   "sideBar": true,
   "skip_h1_title": false,
   "title_cell": "Table of Contents",
   "title_sidebar": "Contents",
   "toc_cell": true,
   "toc_position": {},
   "toc_section_display": true,
   "toc_window_display": false
  }
 },
 "nbformat": 4,
 "nbformat_minor": 2
}
