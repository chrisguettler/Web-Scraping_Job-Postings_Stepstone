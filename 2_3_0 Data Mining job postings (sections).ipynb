{
 "cells": [
  {
   "cell_type": "markdown",
   "metadata": {},
   "source": [
    "# Textanalyse Sections"
   ]
  },
  {
   "cell_type": "markdown",
   "metadata": {},
   "source": [
    "## Import Libraries"
   ]
  },
  {
   "cell_type": "code",
   "execution_count": 1,
   "metadata": {},
   "outputs": [],
   "source": [
    "import pandas as pd\n",
    "import re\n",
    "import pickle\n",
    "import numpy as np\n",
    "import matplotlib.pyplot as plt\n",
    "import math\n",
    "pd.set_option('display.max_columns', None) # alle Spalten von Dataframes anzeigen\n",
    "import seaborn as sns\n",
    "sns.set(style=\"ticks\", color_codes=True)\n",
    "from IPython.core.display import display, HTML"
   ]
  },
  {
   "cell_type": "code",
   "execution_count": 7,
   "metadata": {},
   "outputs": [
    {
     "data": {
      "text/html": [
       "<style>.container { width:75% !important; }</style>"
      ],
      "text/plain": [
       "<IPython.core.display.HTML object>"
      ]
     },
     "metadata": {},
     "output_type": "display_data"
    }
   ],
   "source": [
    "display(HTML(\"<style>.container { width:75% !important; }</style>\")) # Breite des Notebooks \n",
    "pd.set_option('display.max_rows', None) # pd.options.display.max_rows = 999\n",
    "# pd.options.display.max_rows = 999"
   ]
  },
  {
   "cell_type": "markdown",
   "metadata": {},
   "source": [
    "# Daten laden, sichten, vorbereiten"
   ]
  },
  {
   "cell_type": "code",
   "execution_count": 4,
   "metadata": {},
   "outputs": [],
   "source": [
    "df = pd.read_csv(\"aufbereitet_2019-12-15.csv\", sep=\";\")"
   ]
  },
  {
   "cell_type": "code",
   "execution_count": 5,
   "metadata": {},
   "outputs": [
    {
     "data": {
      "text/plain": [
       "(50451, 52)"
      ]
     },
     "execution_count": 5,
     "metadata": {},
     "output_type": "execute_result"
    }
   ],
   "source": [
    "df.shape"
   ]
  },
  {
   "cell_type": "code",
   "execution_count": 6,
   "metadata": {},
   "outputs": [
    {
     "name": "stdout",
     "output_type": "stream",
     "text": [
      "<class 'pandas.core.frame.DataFrame'>\n",
      "RangeIndex: 50451 entries, 0 to 50450\n",
      "Data columns (total 52 columns):\n",
      "unique_id                     50451 non-null int64\n",
      "title                         50451 non-null object\n",
      "job_company                   50451 non-null object\n",
      "company_link                  50451 non-null object\n",
      "job_location                  50451 non-null object\n",
      "contract_type                 50451 non-null object\n",
      "wrk_time                      50451 non-null object\n",
      "date                          50451 non-null object\n",
      "job_url                       50451 non-null object\n",
      "sections_str                  50451 non-null object\n",
      "urls                          50451 non-null object\n",
      "searches                      50451 non-null object\n",
      "job_count                     50451 non-null int64\n",
      "search                        50451 non-null object\n",
      "function_level_2              50451 non-null int64\n",
      "region                        50451 non-null int64\n",
      "company_name                  49880 non-null object\n",
      "company_location              49642 non-null object\n",
      "company_sector                22255 non-null object\n",
      "company_rating                20435 non-null float64\n",
      "company_rating_count          20301 non-null float64\n",
      "company_job_count             49072 non-null float64\n",
      "company_employee_count        25588 non-null object\n",
      "company_website               18843 non-null object\n",
      "company_metadatablock         35327 non-null object\n",
      "function_level2_label         50451 non-null object\n",
      "function_level1_label         50451 non-null object\n",
      "function_level_1              50451 non-null int64\n",
      "job_id                        50451 non-null int64\n",
      "sectionlength                 50451 non-null int64\n",
      "section_list                  50451 non-null object\n",
      "section1                      50451 non-null object\n",
      "section2                      47339 non-null object\n",
      "section3                      46923 non-null object\n",
      "section4                      46348 non-null object\n",
      "section5                      39989 non-null object\n",
      "section6                      53 non-null object\n",
      "function_both_levels          50451 non-null object\n",
      "function_both_levels_count    50451 non-null int64\n",
      "Führungskraft                 50451 non-null int64\n",
      "kldb10_2                      50249 non-null float64\n",
      "kldb10_3                      50155 non-null float64\n",
      "kldb10_4                      44511 non-null float64\n",
      "kldb10_2_label                50249 non-null object\n",
      "kldb10_3_label                50155 non-null object\n",
      "frauenanteil_mz14_kldb10_2    50249 non-null float64\n",
      "Frauenanteil_MZ14_kldb10_3    50155 non-null float64\n",
      "Bundesland                    50451 non-null object\n",
      "Vertragsart                   50451 non-null object\n",
      "Befristung                    50451 non-null object\n",
      "company_emp_count             23224 non-null float64\n",
      "company_emp_count_gendered    50451 non-null int64\n",
      "dtypes: float64(9), int64(10), object(33)\n",
      "memory usage: 20.0+ MB\n"
     ]
    }
   ],
   "source": [
    "df.info()"
   ]
  },
  {
   "cell_type": "markdown",
   "metadata": {},
   "source": []
  },
  {
   "cell_type": "code",
   "execution_count": 8,
   "metadata": {},
   "outputs": [
    {
     "data": {
      "text/plain": [
       "unique_id                         0\n",
       "title                             0\n",
       "job_company                       0\n",
       "company_link                      0\n",
       "job_location                      0\n",
       "contract_type                     0\n",
       "wrk_time                          0\n",
       "date                              0\n",
       "job_url                           0\n",
       "sections_str                      0\n",
       "urls                              0\n",
       "searches                          0\n",
       "job_count                         0\n",
       "search                            0\n",
       "function_level_2                  0\n",
       "region                            0\n",
       "company_name                    571\n",
       "company_location                809\n",
       "company_sector                28196\n",
       "company_rating                30016\n",
       "company_rating_count          30150\n",
       "company_job_count              1379\n",
       "company_employee_count        24863\n",
       "company_website               31608\n",
       "company_metadatablock         15124\n",
       "function_level2_label             0\n",
       "function_level1_label             0\n",
       "function_level_1                  0\n",
       "job_id                            0\n",
       "sectionlength                     0\n",
       "section_list                      0\n",
       "section1                          0\n",
       "section2                       3112\n",
       "section3                       3528\n",
       "section4                       4103\n",
       "section5                      10462\n",
       "section6                      50398\n",
       "function_both_levels              0\n",
       "function_both_levels_count        0\n",
       "Führungskraft                     0\n",
       "kldb10_2                        202\n",
       "kldb10_3                        296\n",
       "kldb10_4                       5940\n",
       "kldb10_2_label                  202\n",
       "kldb10_3_label                  296\n",
       "frauenanteil_mz14_kldb10_2      202\n",
       "Frauenanteil_MZ14_kldb10_3      296\n",
       "Bundesland                        0\n",
       "Vertragsart                       0\n",
       "Befristung                        0\n",
       "company_emp_count             27227\n",
       "company_emp_count_gendered        0\n",
       "dtype: int64"
      ]
     },
     "execution_count": 8,
     "metadata": {},
     "output_type": "execute_result"
    }
   ],
   "source": [
    "df.isnull().sum()"
   ]
  },
  {
   "cell_type": "markdown",
   "metadata": {},
   "source": [
    "# Vorbereitung der Sections (Anzeigentext)\n",
    "* Test der Anzeigen ist in Sektionen / Paragraphen unterteilt)\n",
    "* Unterteilung jedoch uneinheitlich,\n",
    "* teils steht kompletter Text in einem Abschnitt, teils bis zu 6 Abschnitte"
   ]
  },
  {
   "cell_type": "markdown",
   "metadata": {},
   "source": [
    "## Entfernung von Umbrüchen und Trennungen in Wörtern"
   ]
  },
  {
   "cell_type": "code",
   "execution_count": 9,
   "metadata": {},
   "outputs": [],
   "source": [
    "#Entfernung von Soft-Hyphens aus den Textfeldern: \\\\u200b \\\\xad \\xa0 \\xad  \\n (HTML-Reste, SHY / Soft Hyphens, Non-Break-Spaces, Umbrüche etc.) \n",
    "def cleanup(x, column):\n",
    "    if x is None:\n",
    "        x = np.nan\n",
    "    elif isinstance(x, float):\n",
    "        x = np.nan\n",
    "    else:\n",
    "        x = str(x).replace(\"\\\\xad\",\"\").replace(\"\\xad\",\"\").replace(\"\\\\xc2\",\" \").replace(\"\\\\xa0\",\" \").replace(\"\\xa0\",\" \").replace(\"\\n\",\"\").replace(\"\\\\u200b\",\"\").replace(\"\\u200b\",\"\").replace(\"\\\\u202b\",\" \").replace(\"\\u202b\",\" \").replace(\"\\\\u202f\",\" \").replace(\"\\u202f\",\" \").replace(\"\\x96 \",\" \").replace(\"\\x92\",\"\").replace(\"\\uf0a7\",\"\").replace(\"\\u2009\",\"\").replace(\"\\x84\",\"\").replace(\"\\uf0b7\",\"\").replace(\"\\u2005\",\" \").replace(\"\\x9f\",\" \").replace(\"\\x83Selbständige\",\" Selbständige\").replace(\"\\x96\",\"\")\n",
    "    return x"
   ]
  },
  {
   "cell_type": "code",
   "execution_count": 10,
   "metadata": {},
   "outputs": [],
   "source": [
    "df[\"sections_str\"] = df[\"sections_str\"].apply(cleanup, column=(\"sections_str\"))"
   ]
  },
  {
   "cell_type": "code",
   "execution_count": 11,
   "metadata": {},
   "outputs": [
    {
     "data": {
      "text/plain": [
       "0"
      ]
     },
     "execution_count": 11,
     "metadata": {},
     "output_type": "execute_result"
    }
   ],
   "source": [
    "df[\"sections_str\"].isnull().sum()"
   ]
  },
  {
   "cell_type": "code",
   "execution_count": 12,
   "metadata": {},
   "outputs": [],
   "source": [
    "df[\"section1\"] = df[\"section1\"].apply(cleanup, column=(\"section1\"))"
   ]
  },
  {
   "cell_type": "code",
   "execution_count": 13,
   "metadata": {},
   "outputs": [
    {
     "data": {
      "text/plain": [
       "0"
      ]
     },
     "execution_count": 13,
     "metadata": {},
     "output_type": "execute_result"
    }
   ],
   "source": [
    "df[\"section1\"].isnull().sum()"
   ]
  },
  {
   "cell_type": "code",
   "execution_count": 14,
   "metadata": {},
   "outputs": [],
   "source": [
    "df[\"section2\"] = df[\"section2\"].apply(cleanup, column=(\"section2\"))"
   ]
  },
  {
   "cell_type": "code",
   "execution_count": 15,
   "metadata": {},
   "outputs": [
    {
     "data": {
      "text/plain": [
       "3112"
      ]
     },
     "execution_count": 15,
     "metadata": {},
     "output_type": "execute_result"
    }
   ],
   "source": [
    "df[\"section2\"].isnull().sum()"
   ]
  },
  {
   "cell_type": "code",
   "execution_count": 16,
   "metadata": {},
   "outputs": [],
   "source": [
    "df[\"section3\"] = df[\"section3\"].apply(cleanup, column=(\"section3\"))"
   ]
  },
  {
   "cell_type": "code",
   "execution_count": 17,
   "metadata": {},
   "outputs": [
    {
     "data": {
      "text/plain": [
       "3528"
      ]
     },
     "execution_count": 17,
     "metadata": {},
     "output_type": "execute_result"
    }
   ],
   "source": [
    "df[\"section3\"].isnull().sum()"
   ]
  },
  {
   "cell_type": "code",
   "execution_count": 18,
   "metadata": {},
   "outputs": [],
   "source": [
    "df[\"section4\"] = df[\"section4\"].apply(cleanup, column=(\"section4\"))"
   ]
  },
  {
   "cell_type": "code",
   "execution_count": 19,
   "metadata": {},
   "outputs": [
    {
     "data": {
      "text/plain": [
       "4103"
      ]
     },
     "execution_count": 19,
     "metadata": {},
     "output_type": "execute_result"
    }
   ],
   "source": [
    "df[\"section4\"].isnull().sum()"
   ]
  },
  {
   "cell_type": "markdown",
   "metadata": {},
   "source": [
    "#### Mit RE (RegEx) überprüfen ob alle \\\\\\ und \\ entfernt sind."
   ]
  },
  {
   "cell_type": "code",
   "execution_count": 20,
   "metadata": {},
   "outputs": [],
   "source": [
    "def umbruch(column):\n",
    "    try:\n",
    "        match = re.search(r'\\w*\\\\\\\\\\w+|\\w*\\\\\\w+', column)\n",
    "        shy = match.group(0)\n",
    "    except:\n",
    "        shy = ''\n",
    "    return shy"
   ]
  },
  {
   "cell_type": "code",
   "execution_count": 21,
   "metadata": {},
   "outputs": [
    {
     "data": {
      "text/plain": [
       "\"['Entscheiden Sie sich für eine Zukunft mit besten Perspektiven! ALPMA ist Weltmarktführer im Bereich Maschinen- und Anlagenbau für die Käserei- und Lebensmittelindustrie. Wir beschäftigen weltweit über 875 Mitarbeiter und sind global in mehr als 50 Ländern aktiv. Unsere Mitarbeiter tragen maßgeblich dazu bei, dass wir uns weltweit etabliert haben und diese Position behaupten und stetig ausbauen können. Für unseren Geschäftsbereich Prozesstechnik am Standort Dresden suchen wir einen Ingenieur/ Techniker (m/w/d) für Automatisierungs- / Elektrotechnik', 'Ihre Aufgaben: Konzeptentwicklung und Pflichtenhefterstellung für Automatisierung/ Elektrotechnik Erstellung kundenindividueller Automatisierungslösungen der Prozessleittechnik auf Basis von Verfahrensbeschreibungen (Pflichtenheft / Lastenheft) Durchführen von Softwaretests in enger Zusammenarbeit mit Endkunden und Systempartnern Erstellung von Prozessvisualisierungen (TIA-Portal, WinCC, ProLeiT) Erstellung von Basisprojektierung (SPS-Siemens/ Allen-Bradley) auf Grundlage der Elektroplanung Unterstützung bei Inbetriebnahmen unserer Produktionsanlagen beim Kunden, auch im Ausland', 'Ihr Profil: Hochschulausbildung als Ingenieur (m/w/d) Automatisierungs-/ Elektrotechnik oder Techniker (m/w/d) Fachrichtung Elektrotechnik bzw. Mechatronik Erfahrungen in der Programmierung von SIMATIC S7-Steuerungen (AWL) und möglichst auch Allen-Bradley sowie mit Visualisierungssystemen (TIA-Portal, WinCC, ProLeiT) Gute Englischkenntnisse Gute MS Office-Anwenderkenntnisse Weltweite Reisebereitschaft bei Inbetriebnahmen', 'Wir bieten: Flexible Arbeitszeiten Attraktive Entlohnung mit Mitarbeiter-Ergebnisbeteiligung Entwicklungschancen in einem dynamischen Unternehmen mit kurzen Entscheidungswegen Hohes Maß an Gestaltungsspielraum', 'Kontakt Wenn wir Ihr Interesse wecken konnten, freuen wir uns auf Ihre schriftliche Bewerbung mit den üblichen Unterlagen per E-Mail an bewerbung@alpma.de . ALPMA Alpenland Maschinenbau GmbH Alpenstraße 39–43 • 83543 Rott am Inn • www.alpma.de']\""
      ]
     },
     "execution_count": 21,
     "metadata": {},
     "output_type": "execute_result"
    }
   ],
   "source": [
    "df[\"sections_str\"].iloc[28]\n",
    "#.astype(\"str\").apply(lambda x: umbruch(x)).value_counts()"
   ]
  },
  {
   "cell_type": "code",
   "execution_count": 22,
   "metadata": {},
   "outputs": [
    {
     "data": {
      "text/plain": [
       "                  50447\n",
       "TBWA\\Worldwide        3\n",
       "\\O                    1\n",
       "Name: section1, dtype: int64"
      ]
     },
     "execution_count": 22,
     "metadata": {},
     "output_type": "execute_result"
    }
   ],
   "source": [
    "df[\"section1\"].astype(\"str\").apply(lambda x: umbruch(x)).value_counts()"
   ]
  },
  {
   "cell_type": "code",
   "execution_count": 23,
   "metadata": {
    "scrolled": true
   },
   "outputs": [
    {
     "data": {
      "text/plain": [
       "                  50450\n",
       "Leuchten\\uDBC0        1\n",
       "Name: section2, dtype: int64"
      ]
     },
     "execution_count": 23,
     "metadata": {},
     "output_type": "execute_result"
    }
   ],
   "source": [
    "df[\"section2\"].astype(\"str\").apply(lambda x: umbruch(x)).value_counts()"
   ]
  },
  {
   "cell_type": "code",
   "execution_count": 24,
   "metadata": {},
   "outputs": [
    {
     "data": {
      "text/plain": [
       "                                50122\n",
       "\\x96                               41\n",
       "macht\\x92s                         25\n",
       "\\uf0b7                             14\n",
       "\\u2009B                            12\n",
       "\\uf0a7                             12\n",
       "1\\u2009600                          9\n",
       "\\x84Wohlfühlatmosphäre              6\n",
       "\\x84Sehr                            5\n",
       "AG\\u2009                            5\n",
       "\\u2005gip                           5\n",
       "\\nFREUEN                            5\n",
       "\\x84Entrepreneur                    5\n",
       "\\x9f                                5\n",
       "800\\u2009000                        4\n",
       "Pharmareferent\\n                    4\n",
       "\\nVielfalt                          4\n",
       "2\\u2009000                          4\n",
       "\\x84machen                          4\n",
       "1\\u2009000                          4\n",
       "20\\u2009000                         4\n",
       "\\x84Maschinentechnik                3\n",
       "\\u2009ä                             3\n",
       "28\\u2009000                         3\n",
       "\\x85                                3\n",
       "eine\\u2009                          3\n",
       "TBWA\\\\Worldwide                     3\n",
       "\\u2009Ä                             3\n",
       "3\\u2009000                          2\n",
       "Verletzten\\x8fartenverfahren        2\n",
       "\\u2009Technischer                   2\n",
       "\\x95                                2\n",
       "com\\u206e                           2\n",
       "obligatorisch\\x96                   2\n",
       "\\x96teilen                          2\n",
       "\\x84JA                              2\n",
       "\\u2009609                           2\n",
       "\\x84Salz                            2\n",
       "13\\u2009000                         2\n",
       "\\u200ebesonders                     2\n",
       "\\u200949                            2\n",
       "\\u2009T                             2\n",
       "\\x83                                2\n",
       "flache\\u2002Hierarchie              2\n",
       "4\\u2009000                          2\n",
       "Arbeitsweise\\uf0a7                  2\n",
       "GmbH\\u2003Rudolf                    2\n",
       "Wir\\twünschen                       2\n",
       "\\uf0e0                              2\n",
       "\\x84Technisches                     2\n",
       "49\\u2009                            2\n",
       "500\\u2009000                        2\n",
       "\\u2009a                             2\n",
       "\\nwenn                              2\n",
       "mit\\nin                             2\n",
       "304\\x96306                          2\n",
       "Perso\\ufeffnaldienstleister         2\n",
       "100\\u2009                           2\n",
       "49\\u20098703                        2\n",
       "\\x84Personio                        1\n",
       "\\x96auswahl                         1\n",
       "\\x96abrechnung                      1\n",
       "3\\u2009400                          1\n",
       "\\u2009H                             1\n",
       "m\\u200a                             1\n",
       "\\ufeffMFA                           1\n",
       "\\ufeffoder                          1\n",
       "\\nIhre                              1\n",
       "und\\u3000bei                        1\n",
       "GmbH\\u2003Porschestr                1\n",
       "\\x96konstruktion                    1\n",
       "\\u2002im                            1\n",
       "\\u2028Du                            1\n",
       "6\\u2009000                          1\n",
       "\\x84Mitarbeiter                     1\n",
       "50\\u2005                            1\n",
       "2\\u2009500                          1\n",
       "Leuchten\\\\uDBC0                     1\n",
       "\\u200eWeiterentwicklung             1\n",
       "\\x84transparent                     1\n",
       "\\u200aIT                            1\n",
       "\\x96Verarbeitung                    1\n",
       "\\x9e                                1\n",
       "\\x96realisierung                    1\n",
       "Verlustprognosen\\u2009              1\n",
       "\\x84Perfect                         1\n",
       "\\uf0a7Berufserfahrung               1\n",
       "\\x9fSie                             1\n",
       "zum\\u2009                           1\n",
       "7\\u2009500                          1\n",
       "\\x84Ihr                             1\n",
       "Kundensituationen\\u2009             1\n",
       "\\x7fZu                              1\n",
       "\\x8fVertrieb                        1\n",
       "\\u200eWeil                          1\n",
       "\\x96methoden                        1\n",
       "\\x83Selbständige                    1\n",
       "\\nAuch                              1\n",
       "Gehaltsvorstellung\\u2028            1\n",
       "\\\\O                                 1\n",
       "\\uf06e                              1\n",
       "23\\u2009500                         1\n",
       "\\u20090                             1\n",
       "\\u200694                            1\n",
       "5\\u2009000                          1\n",
       "Bestattungsvorsorgen\\uf09f          1\n",
       "HTML\\x96Prototypen                  1\n",
       "\\x84Acumatica                       1\n",
       "Ihre\\tAufgaben                      1\n",
       "\\ufeff                              1\n",
       "\\x85fehlen                          1\n",
       "\\x84Kultur                          1\n",
       "\\x7fADRESSE                         1\n",
       "Fachkenntnisse\\u2009                1\n",
       "\\x84jetzt                           1\n",
       "20\\u2009                            1\n",
       "â\\x80                               1\n",
       "\\nDafür                             1\n",
       "\\x9fOffenheit                       1\n",
       "Creglingen\\u2009                    1\n",
       "Frankfurt\\u2009                     1\n",
       "\\x7fWir                             1\n",
       "\\u2009                              1\n",
       "Berufsausbildung\\u2028              1\n",
       "Qualifikation\\uf0b7                 1\n",
       "mehr\\nals                           1\n",
       "\\x93                                1\n",
       "\\x84Hands                           1\n",
       "Name: sections_str, dtype: int64"
      ]
     },
     "execution_count": 24,
     "metadata": {},
     "output_type": "execute_result"
    }
   ],
   "source": [
    "df[\"sections_str\"].astype(\"str\").apply(lambda x: umbruch(x)).value_counts()"
   ]
  },
  {
   "cell_type": "code",
   "execution_count": 25,
   "metadata": {
    "scrolled": true
   },
   "outputs": [
    {
     "data": {
      "text/plain": [
       "                  50450\n",
       "Leuchten\\uDBC0        1\n",
       "Name: section2, dtype: int64"
      ]
     },
     "execution_count": 25,
     "metadata": {},
     "output_type": "execute_result"
    }
   ],
   "source": [
    "df[\"section2\"].astype(\"str\").apply(lambda x: umbruch(x)).value_counts()"
   ]
  },
  {
   "cell_type": "code",
   "execution_count": 26,
   "metadata": {},
   "outputs": [
    {
     "data": {
      "text/plain": [
       "           50450\n",
       "E\\uDBC0        1\n",
       "Name: section3, dtype: int64"
      ]
     },
     "execution_count": 26,
     "metadata": {},
     "output_type": "execute_result"
    }
   ],
   "source": [
    "df[\"section3\"].astype(\"str\").apply(lambda x: umbruch(x)).value_counts()"
   ]
  },
  {
   "cell_type": "code",
   "execution_count": 27,
   "metadata": {},
   "outputs": [
    {
     "data": {
      "text/plain": [
       "    50451\n",
       "Name: section4, dtype: int64"
      ]
     },
     "execution_count": 27,
     "metadata": {},
     "output_type": "execute_result"
    }
   ],
   "source": [
    "df[\"section4\"].astype(\"str\").apply(lambda x: umbruch(x)).value_counts()"
   ]
  },
  {
   "cell_type": "code",
   "execution_count": 28,
   "metadata": {
    "scrolled": true
   },
   "outputs": [
    {
     "data": {
      "text/plain": [
       "    50451\n",
       "Name: section5, dtype: int64"
      ]
     },
     "execution_count": 28,
     "metadata": {},
     "output_type": "execute_result"
    }
   ],
   "source": [
    "df[\"section5\"].astype(\"str\").apply(lambda x: umbruch(x)).value_counts()"
   ]
  },
  {
   "cell_type": "markdown",
   "metadata": {},
   "source": [
    "# Dictionary based scoring\n",
    "* https://github.com/sgsinclair/alta/blob/dc47e4b47b133cee24a85e9817592971e67681cd/ipynb/utilities/ComplexSentimentAnalysis.ipynb\n",
    "* rule-based vs. machine learning / semi-supervised: https://monkeylearn.com/text-classification/\n",
    "* resource: https://textblob.readthedocs.io/en/dev/advanced_usage.html#sentiment-analyzers\n",
    "* (https://www.kaggle.com/rosado/sentiment-analysis-text-mining)\n",
    "* diskussion: https://brenocon.com/blog/2011/10/be-careful-with-dictionary-based-text-analysis/\n",
    "vgl mit Topic Modelling?\n",
    "* diskussion deep learning vs. rule based: https://dzone.com/articles/reasons-to-replace-dictionary-based-text-mining-wi"
   ]
  },
  {
   "cell_type": "markdown",
   "metadata": {},
   "source": [
    "## Wörterbücher für weibliche und männliche Stereotype\n",
    "Quellen:\n",
    "* Gaucher et al. 2011\n",
    "* Schneider-Düker, Marianne/André Kohler 1988: (BEM-Sex-Role-Inventory)\n",
    "* Troche und Rammsayer (2011)\n",
    "* Hentschel et al 2019\n",
    "#### Resources: \n",
    "* https://brenocon.com/blog/2011/10/be-careful-with-dictionary-based-text-analysis/\n",
    "* https://textblob.readthedocs.io/en/dev/advanced_usage.html#sentiment-analyzers\n",
    "* dictionary based sentiment analysis: https://github.com/sgsinclair/alta/blob/dc47e4b47b133cee24a85e9817592971e67681cd/ipynb/utilities/ComplexSentimentAnalysis.ipynb bzw. https://methodi.ca/recipes/dictionary-based-sentiment-analysis-python\n",
    "\n"
   ]
  },
  {
   "cell_type": "markdown",
   "metadata": {},
   "source": [
    "### Stereotype aus Excel-Datei importieren"
   ]
  },
  {
   "cell_type": "code",
   "execution_count": 29,
   "metadata": {},
   "outputs": [],
   "source": [
    "df_stereotypes= pd.read_excel(\"Geschlechterstereotype.xlsx\")"
   ]
  },
  {
   "cell_type": "code",
   "execution_count": 30,
   "metadata": {
    "scrolled": true
   },
   "outputs": [
    {
     "data": {
      "text/html": [
       "<div>\n",
       "<style scoped>\n",
       "    .dataframe tbody tr th:only-of-type {\n",
       "        vertical-align: middle;\n",
       "    }\n",
       "\n",
       "    .dataframe tbody tr th {\n",
       "        vertical-align: top;\n",
       "    }\n",
       "\n",
       "    .dataframe thead th {\n",
       "        text-align: right;\n",
       "    }\n",
       "</style>\n",
       "<table border=\"1\" class=\"dataframe\">\n",
       "  <thead>\n",
       "    <tr style=\"text-align: right;\">\n",
       "      <th></th>\n",
       "      <th>Männlich</th>\n",
       "      <th>source</th>\n",
       "      <th>original</th>\n",
       "      <th>Weiblich</th>\n",
       "      <th>source.1</th>\n",
       "      <th>original.1</th>\n",
       "    </tr>\n",
       "  </thead>\n",
       "  <tbody>\n",
       "    <tr>\n",
       "      <th>0</th>\n",
       "      <td>zielstrebig</td>\n",
       "      <td>hentschel</td>\n",
       "      <td>NaN</td>\n",
       "      <td>engagiert</td>\n",
       "      <td>hentschel</td>\n",
       "      <td>NaN</td>\n",
       "    </tr>\n",
       "    <tr>\n",
       "      <th>1</th>\n",
       "      <td>selbständig</td>\n",
       "      <td>hentschel</td>\n",
       "      <td>NaN</td>\n",
       "      <td>engagement</td>\n",
       "      <td>hentschel</td>\n",
       "      <td>synonym</td>\n",
       "    </tr>\n",
       "    <tr>\n",
       "      <th>2</th>\n",
       "      <td>direkt</td>\n",
       "      <td>hentschel</td>\n",
       "      <td>NaN</td>\n",
       "      <td>verantwortungsvoll</td>\n",
       "      <td>hentschel</td>\n",
       "      <td>NaN</td>\n",
       "    </tr>\n",
       "    <tr>\n",
       "      <th>3</th>\n",
       "      <td>kompetenz</td>\n",
       "      <td>hentschel</td>\n",
       "      <td>NaN</td>\n",
       "      <td>verantwortungsbewusst</td>\n",
       "      <td>hentschel</td>\n",
       "      <td>synonym</td>\n",
       "    </tr>\n",
       "    <tr>\n",
       "      <th>4</th>\n",
       "      <td>analytisch</td>\n",
       "      <td>hentschel</td>\n",
       "      <td>NaN</td>\n",
       "      <td>verantwortungsbewusstsein</td>\n",
       "      <td>hentschel</td>\n",
       "      <td>synonym</td>\n",
       "    </tr>\n",
       "  </tbody>\n",
       "</table>\n",
       "</div>"
      ],
      "text/plain": [
       "      Männlich     source original                   Weiblich   source.1  \\\n",
       "0  zielstrebig  hentschel      NaN                  engagiert  hentschel   \n",
       "1  selbständig  hentschel      NaN                 engagement  hentschel   \n",
       "2       direkt  hentschel      NaN         verantwortungsvoll  hentschel   \n",
       "3    kompetenz  hentschel      NaN      verantwortungsbewusst  hentschel   \n",
       "4   analytisch  hentschel      NaN  verantwortungsbewusstsein  hentschel   \n",
       "\n",
       "  original.1  \n",
       "0        NaN  \n",
       "1    synonym  \n",
       "2        NaN  \n",
       "3    synonym  \n",
       "4    synonym  "
      ]
     },
     "execution_count": 30,
     "metadata": {},
     "output_type": "execute_result"
    }
   ],
   "source": [
    "df_stereotypes.head()"
   ]
  },
  {
   "cell_type": "markdown",
   "metadata": {},
   "source": [
    "### Lemmatize \n",
    "* Schritt wird weggelassen\n",
    "* kein Unterschied in den Ergebnissen"
   ]
  },
  {
   "cell_type": "code",
   "execution_count": 31,
   "metadata": {},
   "outputs": [],
   "source": [
    "from nltk.stem import WordNetLemmatizer\n",
    "lemmatizer = WordNetLemmatizer()"
   ]
  },
  {
   "cell_type": "code",
   "execution_count": 32,
   "metadata": {},
   "outputs": [],
   "source": [
    "df_stereotypes['female_lemma'] = df_stereotypes['Weiblich'].astype(\"str\").apply(lambda x: lemmatizer.lemmatize(x))"
   ]
  },
  {
   "cell_type": "code",
   "execution_count": 33,
   "metadata": {},
   "outputs": [],
   "source": [
    "df_stereotypes['male_lemma'] = df_stereotypes['Männlich'].astype(\"str\").apply(lambda x: lemmatizer.lemmatize(x))"
   ]
  },
  {
   "cell_type": "code",
   "execution_count": 34,
   "metadata": {
    "collapsed": true
   },
   "outputs": [
    {
     "data": {
      "text/plain": [
       "0                      engagiert\n",
       "1                     engagement\n",
       "2             verantwortungsvoll\n",
       "3          verantwortungsbewusst\n",
       "4      verantwortungsbewusstsein\n",
       "5                 kontaktfreudig\n",
       "6                     förderlich\n",
       "7                   unterstützen\n",
       "8                       begabung\n",
       "9                         begabt\n",
       "10                vertrauensvoll\n",
       "11                  gewissenhaft\n",
       "12                  kollaborativ\n",
       "13                 verantwortung\n",
       "14                         loyal\n",
       "15                  verpflichten\n",
       "16                  sensitivität\n",
       "17            zwischenmenschlich\n",
       "18                   aufmunternd\n",
       "19                       ehrlich\n",
       "20                    empathisch\n",
       "21                    festgelegt\n",
       "22                  verpflichtet\n",
       "23                  verpflichten\n",
       "24                       fördern\n",
       "25                      erziehen\n",
       "26              gemeinschaftlich\n",
       "27                  gemeinschaft\n",
       "28                      herzlich\n",
       "29                         gütig\n",
       "30                       höflich\n",
       "31                    kooperativ\n",
       "32                     mitgefühl\n",
       "33                       mitleid\n",
       "34                          nett\n",
       "35                    freundlich\n",
       "36                  freundliches\n",
       "37                rücksichtsvoll\n",
       "38                     rücksicht\n",
       "39                    aufmerksam\n",
       "40                      sensibel\n",
       "41                  sensibilität\n",
       "42                   sympathisch\n",
       "43                    umgänglich\n",
       "44                  unterstützen\n",
       "45                 unterstützend\n",
       "46                verantwortlich\n",
       "47                     verbunden\n",
       "48               verständnisvoll\n",
       "49                     vertrauen\n",
       "50                   voneinander\n",
       "51                    warmherzig\n",
       "52                      zusammen\n",
       "53                    romantisch\n",
       "54                      abhängig\n",
       "55                   weichherzig\n",
       "56                     glücklich\n",
       "57                    feinfühlig\n",
       "58                      fröhlich\n",
       "59                    nachgiebig\n",
       "60                    bescheiden\n",
       "61                   empfänglich\n",
       "62                    empfindsam\n",
       "63              selbstaufopfernd\n",
       "64                  leidenschaft\n",
       "65              leidenschaftlich\n",
       "66                   Erscheinung\n",
       "67                     liebevoll\n",
       "68                        heiter\n",
       "69                zusammenarbeit\n",
       "70                   kooperation\n",
       "71                aufgeschlossen\n",
       "72                  kommunikativ\n",
       "73                    mitfühlend\n",
       "74                   anteilnahme\n",
       "75                 anteilnehmend\n",
       "76                     großzügig\n",
       "77                    großherzig\n",
       "78                         sanft\n",
       "79                      behutsam\n",
       "80                      gutmütig\n",
       "81                      gutartig\n",
       "82                     hilfreich\n",
       "83                   hilfsbereit\n",
       "84                      intuitiv\n",
       "85                    instinktiv\n",
       "86                    bescheiden\n",
       "87                        dezent\n",
       "88                       maßvoll\n",
       "89                      gepflegt\n",
       "90               menschenbezogen\n",
       "91          beziehungsorientiert\n",
       "92              kundenorientiert\n",
       "93                    einfühlsam\n",
       "94                      sensitiv\n",
       "95                    aufrichtig\n",
       "96                  wohlgesonnen\n",
       "97                        gefühl\n",
       "98                       gefühle\n",
       "99                    feingefühl\n",
       "100                     sinnlich\n",
       "101                      anmutig\n",
       "102                  modebewusst\n",
       "103                  fürsorglich\n",
       "104              fürsorglichkeit\n",
       "105             mitteilungsstark\n",
       "106         mitteilungsbedürftig\n",
       "107                     menschen\n",
       "108                     zärtlich\n",
       "109                     sensible\n",
       "110                    sensibler\n",
       "111                teamfähigkeit\n",
       "112      kommunikationsfähigkeit\n",
       "113                  verständnis\n",
       "114         kommunikationsstärke\n",
       "115                   engagement\n",
       "116               kommunikations\n",
       "117                   teamplayer\n",
       "118                kommunikative\n",
       "119                    teamgeist\n",
       "120    kommunikationsfähigkeiten\n",
       "121                kommunikation\n",
       "122                 freundliches\n",
       "123                 leidenschaft\n",
       "124                verantwortung\n",
       "125                    teamfähig\n",
       "126                   teamarbeit\n",
       "127                kommunizieren\n",
       "128          kommunikationsstark\n",
       "129                 kommunikativ\n",
       "130                   engagierte\n",
       "131              sozialkompetenz\n",
       "132                    engagiert\n",
       "133           kundenorientiertes\n",
       "134              teamorientierte\n",
       "135                     empathie\n",
       "136                  engagierter\n",
       "137             teamorientierung\n",
       "138        verantwortungsbewusst\n",
       "139                gewissenhafte\n",
       "140                 unterstützen\n",
       "141               freundlichkeit\n",
       "142                    loyalität\n",
       "143       verantwortungsbewusste\n",
       "144          einfühlungsvermögen\n",
       "145                  freundliche\n",
       "146               kommunikations\n",
       "147                   gepflegtes\n",
       "148                    gemeinsam\n",
       "Name: female_lemma, dtype: object"
      ]
     },
     "execution_count": 34,
     "metadata": {},
     "output_type": "execute_result"
    }
   ],
   "source": [
    "df_stereotypes['female_lemma']"
   ]
  },
  {
   "cell_type": "markdown",
   "metadata": {},
   "source": [
    "### Convert to list format"
   ]
  },
  {
   "cell_type": "code",
   "execution_count": 35,
   "metadata": {},
   "outputs": [
    {
     "name": "stdout",
     "output_type": "stream",
     "text": [
      "149\n",
      "149\n"
     ]
    }
   ],
   "source": [
    "male = df_stereotypes[\"Männlich\"].to_list()\n",
    "female = df_stereotypes[\"Weiblich\"].to_list()\n",
    "# Alternativ mit Lemmas:\n",
    "# male = df_stereotypes[\"male_lemma\"].to_list()\n",
    "# female = df_stereotypes[\"female_lemma\"].to_list()\n",
    "print(len(male))\n",
    "print(len(female))"
   ]
  },
  {
   "cell_type": "code",
   "execution_count": 36,
   "metadata": {
    "scrolled": false
   },
   "outputs": [
    {
     "name": "stdout",
     "output_type": "stream",
     "text": [
      "['zielstrebig', 'selbständig', 'direkt', 'kompetenz', 'analytisch', 'einsetzen', 'offensiv', 'erfolgsversprechend', 'entschlossen', 'leistungsorientiert', 'leistungsbereit', 'zielorientiert', 'ergebnisorientiert', 'ehrgeiz', 'außergewöhnlich', 'leistung', 'einsatz', 'einsatzbereit', 'einsatzbereitschaft', 'selbstbewusstsein', 'aktiv', 'analysierend', 'analysieren', 'autonom', 'souverän', 'beharren', 'bestehen', 'bestimmend', 'bestimmen', 'direkt', 'geradeheraus', 'dominant', 'ehrgeizig', 'entscheiden', 'entscheidungsfreudig', 'entscheidung', 'führend', 'hartnäckig', 'herausfordernd', 'hierarchisch', 'individuell', 'intellektuell', 'konkurrierend', 'logisch', 'meinung', 'mutig', 'objektiv', 'prinzipiell', 'selbstbewusst', 'selbstsicher', 'selbständig', 'unabhängig', 'autark', 'bestimmt', 'unerschrocken', 'sachlich', 'intelligent', 'risiko', 'risikobereit', 'riskieren', 'kraftvoll', 'furchtlos', 'scharfsinnig', 'sicher', 'konsequent', 'geschäftsmäßig', 'ambitioniert', 'ambitionen', 'durchsetzungsfähig', 'durchsetzungsstark', 'durchsetzungsvermögen', 'maßgeblich', 'kompetent', 'kompetenten', 'konkurrenzfähig', 'konsistent', 'dominant', 'effektiv', 'solide', 'kraftvoll', 'führungsqualitäten', 'führungsfähigkeiten', 'führungseigenschaften', 'objectiv', 'organisiert', 'organisation', 'strukturiert', 'beharrlich', 'produktiv', 'entspannt', 'zuverlässig', 'risiko', 'selbstbeherrscht', 'eigenständig', 'selbstständig', 'anspruchsvoll', 'belastbar', 'belastbarkeit', 'ständig', 'aufgabenorientiert', 'kräftig', 'sachkundig', 'mächtig', 'erfolgsorientiert', 'erfolgreich', 'strukturierte', 'analytische', 'selbstständige', 'eigeninitiative', 'zuverlässigkeit', 'belastbarkeit', 'analytisches', 'durchsetzungsvermögen', 'selbständige', 'führungserfahrung', 'kompetenzen', 'zuverlässige', 'strukturiert', 'führung', 'analyse', 'zuverlässig', 'selbstständiges', 'starke', 'leistungsbereitschaft', 'zielorientierte', 'belastbar', 'strukturiertes', 'eigenständige', 'selbstständigkeit', 'souveränes', 'analytisch', 'führen', 'ergebnisorientierte', 'durchsetzungsfähigkeit', 'ergebnisorientierung', 'stark', 'durchsetzungsstärke', 'analytischen', 'selbständiges', 'aktiv', 'selbständig', 'eigenständig', 'zielorientiert', 'strukturierten', 'selbstständigen', 'selbständigkeit', 'entscheiden', 'respekt']\n",
      "['engagiert', 'engagement', 'verantwortungsvoll', 'verantwortungsbewusst', 'verantwortungsbewusstsein', 'kontaktfreudig', 'förderlich', 'unterstützen', 'begabung', 'begabt', 'vertrauensvoll', 'gewissenhaft', 'kollaborativ', 'verantwortung', 'loyal', 'verpflichten', 'sensitivität', 'zwischenmenschlich', 'aufmunternd', 'ehrlich', 'empathisch', 'festgelegt', 'verpflichtet', 'verpflichten', 'fördern', 'erziehen', 'gemeinschaftlich', 'gemeinschaft', 'herzlich', 'gütig', 'höflich', 'kooperativ', 'mitgefühl', 'mitleid', 'nett', 'freundlich', 'freundliches', 'rücksichtsvoll', 'rücksicht', 'aufmerksam', 'sensibel', 'sensibilität', 'sympathisch', 'umgänglich', 'unterstützen', 'unterstützend', 'verantwortlich', 'verbunden', 'verständnisvoll', 'vertrauen', 'voneinander', 'warmherzig', 'zusammen', 'romantisch', 'abhängig', 'weichherzig', 'glücklich', 'feinfühlig', 'fröhlich', 'nachgiebig', 'bescheiden', 'empfänglich', 'empfindsam', 'selbstaufopfernd', 'leidenschaft', 'leidenschaftlich', 'Erscheinung', 'liebevoll', 'heiter', 'zusammenarbeit', 'kooperation', 'aufgeschlossen', 'kommunikativ', 'mitfühlend', 'anteilnahme', 'anteilnehmend', 'großzügig', 'großherzig', 'sanft', 'behutsam', 'gutmütig', 'gutartig', 'hilfreich', 'hilfsbereit', 'intuitiv', 'instinktiv', 'bescheiden', 'dezent', 'maßvoll', 'gepflegt', 'menschenbezogen', 'beziehungsorientiert', 'kundenorientiert', 'einfühlsam', 'sensitiv', 'aufrichtig', 'wohlgesonnen', 'gefühl', 'gefühle', 'feingefühl', 'sinnlich', 'anmutig', 'modebewusst', 'fürsorglich', 'fürsorglichkeit', 'mitteilungsstark', 'mitteilungsbedürftig', 'menschen', 'zärtlich', 'sensible', 'sensibler', 'teamfähigkeit', 'kommunikationsfähigkeit', 'verständnis', 'kommunikationsstärke', 'engagement', 'kommunikations', 'teamplayer', 'kommunikative', 'teamgeist', 'kommunikationsfähigkeiten', 'kommunikation', 'freundliches', 'leidenschaft', 'verantwortung', 'teamfähig', 'teamarbeit', 'kommunizieren', 'kommunikationsstark', 'kommunikativ', 'engagierte', 'sozialkompetenz', 'engagiert', 'kundenorientiertes', 'teamorientierte', 'empathie', 'engagierter', 'teamorientierung', 'verantwortungsbewusst', 'gewissenhafte', 'unterstützen', 'freundlichkeit', 'loyalität', 'verantwortungsbewusste', 'einfühlungsvermögen', 'freundliche', 'kommunikations', 'gepflegtes', 'gemeinsam']\n"
     ]
    }
   ],
   "source": [
    "male.remove(\".\")\n",
    "print(male)\n",
    "print(female)"
   ]
  },
  {
   "cell_type": "markdown",
   "metadata": {},
   "source": [
    "## Anzahl von Wörtern im Anzeigntext (sections_str)"
   ]
  },
  {
   "cell_type": "code",
   "execution_count": 37,
   "metadata": {},
   "outputs": [],
   "source": [
    "#print(df['sections_str'].iloc[0])"
   ]
  },
  {
   "cell_type": "code",
   "execution_count": 38,
   "metadata": {},
   "outputs": [],
   "source": [
    "# Anzahl der Wörter zählen und in neue Spalte schreiben:\n",
    "df['sections_wordcount'] = df['sections_str'].apply(lambda x: len(x.split()))"
   ]
  },
  {
   "cell_type": "code",
   "execution_count": 39,
   "metadata": {},
   "outputs": [
    {
     "data": {
      "text/plain": [
       "count    50451.000000\n",
       "mean       337.741571\n",
       "std        108.004495\n",
       "min         61.000000\n",
       "25%        260.000000\n",
       "50%        322.000000\n",
       "75%        398.000000\n",
       "max       1240.000000\n",
       "Name: sections_wordcount, dtype: float64"
      ]
     },
     "execution_count": 39,
     "metadata": {},
     "output_type": "execute_result"
    }
   ],
   "source": [
    "df['sections_wordcount'].describe()"
   ]
  },
  {
   "cell_type": "code",
   "execution_count": 40,
   "metadata": {},
   "outputs": [
    {
     "data": {
      "text/plain": [
       "278     267\n",
       "342     250\n",
       "314     250\n",
       "322     249\n",
       "273     245\n",
       "341     243\n",
       "310     242\n",
       "277     242\n",
       "263     235\n",
       "283     233\n",
       "303     228\n",
       "297     227\n",
       "330     225\n",
       "275     224\n",
       "255     224\n",
       "266     223\n",
       "328     222\n",
       "279     219\n",
       "262     219\n",
       "319     218\n",
       "250     217\n",
       "338     217\n",
       "300     216\n",
       "249     214\n",
       "295     213\n",
       "258     213\n",
       "302     213\n",
       "260     212\n",
       "350     211\n",
       "291     210\n",
       "290     209\n",
       "284     209\n",
       "261     208\n",
       "313     208\n",
       "268     208\n",
       "325     207\n",
       "323     207\n",
       "270     207\n",
       "296     206\n",
       "285     206\n",
       "292     205\n",
       "344     205\n",
       "335     204\n",
       "354     204\n",
       "317     203\n",
       "305     203\n",
       "304     203\n",
       "306     202\n",
       "269     202\n",
       "312     201\n",
       "299     200\n",
       "311     200\n",
       "252     200\n",
       "301     200\n",
       "286     199\n",
       "320     199\n",
       "240     199\n",
       "288     199\n",
       "351     199\n",
       "248     198\n",
       "271     197\n",
       "346     197\n",
       "287     197\n",
       "336     196\n",
       "352     195\n",
       "274     195\n",
       "347     195\n",
       "267     194\n",
       "282     193\n",
       "321     193\n",
       "327     193\n",
       "230     193\n",
       "257     192\n",
       "276     192\n",
       "315     190\n",
       "294     190\n",
       "281     190\n",
       "289     189\n",
       "280     188\n",
       "308     188\n",
       "318     188\n",
       "343     187\n",
       "349     187\n",
       "309     186\n",
       "246     185\n",
       "371     184\n",
       "359     183\n",
       "242     183\n",
       "223     183\n",
       "256     182\n",
       "307     182\n",
       "378     181\n",
       "272     181\n",
       "259     181\n",
       "265     181\n",
       "332     181\n",
       "329     180\n",
       "361     179\n",
       "264     179\n",
       "298     179\n",
       "244     179\n",
       "235     178\n",
       "253     178\n",
       "245     178\n",
       "293     178\n",
       "334     178\n",
       "254     176\n",
       "381     175\n",
       "316     175\n",
       "243     173\n",
       "247     173\n",
       "326     173\n",
       "331     172\n",
       "237     171\n",
       "345     171\n",
       "340     170\n",
       "382     168\n",
       "368     168\n",
       "337     168\n",
       "233     168\n",
       "324     166\n",
       "355     166\n",
       "367     166\n",
       "251     165\n",
       "385     165\n",
       "362     164\n",
       "333     164\n",
       "377     163\n",
       "239     160\n",
       "401     160\n",
       "356     158\n",
       "360     157\n",
       "234     156\n",
       "224     156\n",
       "370     154\n",
       "339     154\n",
       "227     154\n",
       "399     154\n",
       "218     154\n",
       "231     154\n",
       "229     153\n",
       "353     153\n",
       "226     153\n",
       "363     153\n",
       "357     153\n",
       "384     153\n",
       "238     151\n",
       "232     150\n",
       "241     149\n",
       "396     147\n",
       "372     146\n",
       "219     146\n",
       "383     145\n",
       "236     145\n",
       "221     145\n",
       "386     145\n",
       "394     144\n",
       "222     143\n",
       "390     143\n",
       "392     141\n",
       "225     140\n",
       "217     140\n",
       "415     140\n",
       "215     139\n",
       "389     139\n",
       "364     138\n",
       "379     138\n",
       "228     138\n",
       "376     138\n",
       "373     138\n",
       "380     136\n",
       "365     132\n",
       "210     132\n",
       "412     131\n",
       "358     129\n",
       "388     128\n",
       "369     126\n",
       "443     125\n",
       "366     124\n",
       "208     123\n",
       "209     123\n",
       "411     122\n",
       "410     121\n",
       "393     120\n",
       "405     120\n",
       "211     120\n",
       "400     120\n",
       "193     119\n",
       "398     118\n",
       "374     116\n",
       "409     114\n",
       "214     114\n",
       "395     113\n",
       "213     113\n",
       "403     112\n",
       "375     112\n",
       "428     111\n",
       "194     111\n",
       "424     111\n",
       "422     111\n",
       "387     110\n",
       "450     110\n",
       "206     110\n",
       "407     109\n",
       "348     108\n",
       "220     108\n",
       "447     107\n",
       "435     107\n",
       "419     107\n",
       "408     106\n",
       "397     106\n",
       "192     106\n",
       "420     104\n",
       "406     104\n",
       "205     103\n",
       "423     103\n",
       "216     103\n",
       "413     102\n",
       "207     101\n",
       "203     100\n",
       "202     100\n",
       "196     100\n",
       "404      99\n",
       "416      99\n",
       "414      99\n",
       "433      98\n",
       "195      96\n",
       "204      96\n",
       "189      96\n",
       "421      96\n",
       "455      96\n",
       "391      95\n",
       "499      95\n",
       "212      94\n",
       "402      94\n",
       "188      93\n",
       "429      93\n",
       "417      92\n",
       "457      92\n",
       "197      91\n",
       "460      91\n",
       "453      90\n",
       "426      90\n",
       "446      88\n",
       "465      88\n",
       "430      88\n",
       "427      87\n",
       "436      87\n",
       "425      87\n",
       "440      84\n",
       "438      83\n",
       "456      83\n",
       "191      83\n",
       "200      82\n",
       "431      82\n",
       "201      81\n",
       "198      80\n",
       "418      79\n",
       "437      78\n",
       "474      78\n",
       "187      77\n",
       "442      77\n",
       "445      76\n",
       "434      76\n",
       "466      76\n",
       "449      76\n",
       "502      76\n",
       "475      76\n",
       "181      75\n",
       "459      73\n",
       "486      73\n",
       "470      73\n",
       "485      73\n",
       "476      72\n",
       "477      72\n",
       "439      70\n",
       "185      70\n",
       "467      68\n",
       "454      68\n",
       "451      68\n",
       "488      68\n",
       "441      68\n",
       "452      68\n",
       "190      67\n",
       "494      67\n",
       "182      67\n",
       "512      66\n",
       "529      66\n",
       "469      66\n",
       "199      65\n",
       "448      65\n",
       "497      65\n",
       "186      65\n",
       "532      65\n",
       "464      65\n",
       "183      64\n",
       "178      64\n",
       "526      64\n",
       "444      64\n",
       "471      63\n",
       "468      63\n",
       "505      62\n",
       "484      62\n",
       "176      62\n",
       "458      62\n",
       "478      61\n",
       "482      61\n",
       "516      60\n",
       "507      60\n",
       "432      58\n",
       "551      58\n",
       "179      57\n",
       "480      57\n",
       "180      56\n",
       "489      56\n",
       "561      56\n",
       "522      56\n",
       "472      55\n",
       "487      54\n",
       "500      54\n",
       "506      53\n",
       "177      53\n",
       "473      53\n",
       "496      53\n",
       "530      53\n",
       "521      52\n",
       "503      52\n",
       "463      52\n",
       "483      52\n",
       "591      51\n",
       "511      51\n",
       "498      51\n",
       "538      51\n",
       "501      50\n",
       "174      49\n",
       "547      49\n",
       "562      49\n",
       "481      48\n",
       "572      48\n",
       "570      48\n",
       "173      48\n",
       "533      47\n",
       "510      47\n",
       "519      47\n",
       "172      47\n",
       "184      47\n",
       "175      47\n",
       "514      46\n",
       "523      46\n",
       "527      45\n",
       "586      44\n",
       "161      43\n",
       "504      43\n",
       "513      42\n",
       "528      42\n",
       "492      42\n",
       "531      42\n",
       "170      41\n",
       "491      41\n",
       "157      41\n",
       "479      41\n",
       "168      41\n",
       "462      40\n",
       "461      40\n",
       "525      40\n",
       "169      39\n",
       "166      39\n",
       "515      39\n",
       "517      39\n",
       "495      38\n",
       "518      38\n",
       "548      38\n",
       "490      37\n",
       "524      37\n",
       "158      37\n",
       "163      37\n",
       "141      36\n",
       "164      36\n",
       "649      36\n",
       "171      36\n",
       "545      34\n",
       "553      34\n",
       "536      34\n",
       "508      33\n",
       "147      33\n",
       "588      33\n",
       "493      33\n",
       "544      33\n",
       "556      32\n",
       "558      32\n",
       "167      32\n",
       "156      32\n",
       "162      32\n",
       "614      30\n",
       "159      30\n",
       "153      29\n",
       "537      29\n",
       "534      29\n",
       "568      29\n",
       "546      28\n",
       "559      28\n",
       "564      28\n",
       "160      27\n",
       "617      27\n",
       "540      27\n",
       "154      27\n",
       "145      27\n",
       "535      26\n",
       "165      26\n",
       "152      26\n",
       "589      26\n",
       "148      26\n",
       "608      26\n",
       "543      25\n",
       "594      25\n",
       "542      25\n",
       "137      25\n",
       "629      24\n",
       "554      24\n",
       "565      24\n",
       "555      24\n",
       "552      23\n",
       "581      23\n",
       "134      23\n",
       "150      23\n",
       "539      23\n",
       "155      23\n",
       "151      23\n",
       "579      23\n",
       "509      23\n",
       "557      23\n",
       "574      21\n",
       "146      20\n",
       "563      20\n",
       "541      19\n",
       "686      19\n",
       "657      19\n",
       "587      19\n",
       "569      19\n",
       "620      19\n",
       "139      18\n",
       "566      18\n",
       "575      18\n",
       "129      18\n",
       "520      17\n",
       "571      17\n",
       "585      17\n",
       "560      17\n",
       "143      17\n",
       "637      17\n",
       "149      17\n",
       "140      16\n",
       "623      16\n",
       "144      16\n",
       "550      16\n",
       "580      15\n",
       "595      15\n",
       "549      15\n",
       "124      15\n",
       "126      14\n",
       "655      14\n",
       "120      14\n",
       "584      14\n",
       "643      14\n",
       "598      14\n",
       "654      14\n",
       "634      13\n",
       "611      13\n",
       "605      13\n",
       "612      13\n",
       "131      13\n",
       "125      12\n",
       "697      12\n",
       "132      12\n",
       "603      12\n",
       "583      12\n",
       "606      11\n",
       "593      11\n",
       "615      11\n",
       "602      11\n",
       "630      11\n",
       "640      11\n",
       "577      11\n",
       "641      11\n",
       "573      10\n",
       "644      10\n",
       "626      10\n",
       "680      10\n",
       "738      10\n",
       "576      10\n",
       "604      10\n",
       "636      10\n",
       "674      10\n",
       "609      10\n",
       "696      10\n",
       "656      10\n",
       "660      10\n",
       "136       9\n",
       "646       9\n",
       "679       9\n",
       "578       9\n",
       "809       9\n",
       "590       9\n",
       "659       9\n",
       "127       9\n",
       "138       9\n",
       "596       9\n",
       "619       9\n",
       "651       9\n",
       "672       9\n",
       "624       9\n",
       "130       9\n",
       "632       8\n",
       "592       8\n",
       "601       8\n",
       "658       8\n",
       "133       8\n",
       "122       8\n",
       "721       8\n",
       "121       8\n",
       "689       8\n",
       "638       8\n",
       "691       8\n",
       "671       8\n",
       "673       8\n",
       "607       8\n",
       "622       7\n",
       "135       7\n",
       "683       7\n",
       "661       7\n",
       "664       7\n",
       "670       7\n",
       "687       6\n",
       "600       6\n",
       "107       6\n",
       "751       6\n",
       "582       6\n",
       "706       6\n",
       "642       6\n",
       "694       6\n",
       "610       6\n",
       "631       6\n",
       "652       6\n",
       "718       6\n",
       "737       6\n",
       "639       6\n",
       "813       6\n",
       "685       6\n",
       "653       6\n",
       "716       6\n",
       "128       6\n",
       "647       6\n",
       "757       6\n",
       "118       5\n",
       "645       5\n",
       "627       5\n",
       "726       5\n",
       "115       5\n",
       "117       5\n",
       "113       5\n",
       "567       5\n",
       "142       5\n",
       "739       5\n",
       "675       5\n",
       "705       5\n",
       "616       5\n",
       "119       4\n",
       "662       4\n",
       "599       4\n",
       "101       4\n",
       "730       4\n",
       "699       4\n",
       "668       4\n",
       "936       4\n",
       "613       4\n",
       "110       4\n",
       "618       4\n",
       "723       4\n",
       "650       4\n",
       "778       4\n",
       "973       4\n",
       "773       4\n",
       "111       4\n",
       "786       4\n",
       "109       4\n",
       "690       4\n",
       "114       4\n",
       "665       3\n",
       "792       3\n",
       "621       3\n",
       "100       3\n",
       "851       3\n",
       "729       3\n",
       "635       3\n",
       "667       3\n",
       "764       3\n",
       "703       3\n",
       "666       3\n",
       "633       3\n",
       "754       3\n",
       "756       3\n",
       "102       3\n",
       "112       3\n",
       "625       3\n",
       "736       3\n",
       "669       2\n",
       "874       2\n",
       "842       2\n",
       "734       2\n",
       "808       2\n",
       "597       2\n",
       "103       2\n",
       "97        2\n",
       "106       2\n",
       "770       2\n",
       "801       2\n",
       "648       2\n",
       "787       2\n",
       "681       2\n",
       "744       2\n",
       "828       2\n",
       "715       2\n",
       "104       2\n",
       "92        2\n",
       "855       2\n",
       "709       2\n",
       "123       2\n",
       "743       2\n",
       "108       2\n",
       "684       2\n",
       "752       2\n",
       "116       2\n",
       "735       2\n",
       "998       2\n",
       "728       2\n",
       "823       2\n",
       "704       1\n",
       "767       1\n",
       "783       1\n",
       "67        1\n",
       "707       1\n",
       "850       1\n",
       "83        1\n",
       "692       1\n",
       "85        1\n",
       "693       1\n",
       "821       1\n",
       "758       1\n",
       "663       1\n",
       "695       1\n",
       "759       1\n",
       "791       1\n",
       "951       1\n",
       "856       1\n",
       "1240      1\n",
       "89        1\n",
       "825       1\n",
       "698       1\n",
       "763       1\n",
       "700       1\n",
       "732       1\n",
       "61        1\n",
       "93        1\n",
       "701       1\n",
       "766       1\n",
       "862       1\n",
       "818       1\n",
       "817       1\n",
       "785       1\n",
       "713       1\n",
       "803       1\n",
       "867       1\n",
       "676       1\n",
       "708       1\n",
       "740       1\n",
       "772       1\n",
       "678       1\n",
       "871       1\n",
       "72        1\n",
       "712       1\n",
       "1032      1\n",
       "777       1\n",
       "880       1\n",
       "682       1\n",
       "714       1\n",
       "746       1\n",
       "875       1\n",
       "908       1\n",
       "717       1\n",
       "749       1\n",
       "78        1\n",
       "750       1\n",
       "688       1\n",
       "784       1\n",
       "96        1\n",
       "Name: sections_wordcount, dtype: int64"
      ]
     },
     "execution_count": 40,
     "metadata": {},
     "output_type": "execute_result"
    }
   ],
   "source": [
    "df['sections_wordcount'].value_counts()"
   ]
  },
  {
   "cell_type": "code",
   "execution_count": 41,
   "metadata": {},
   "outputs": [
    {
     "data": {
      "text/html": [
       "<div>\n",
       "<style scoped>\n",
       "    .dataframe tbody tr th:only-of-type {\n",
       "        vertical-align: middle;\n",
       "    }\n",
       "\n",
       "    .dataframe tbody tr th {\n",
       "        vertical-align: top;\n",
       "    }\n",
       "\n",
       "    .dataframe thead th {\n",
       "        text-align: right;\n",
       "    }\n",
       "</style>\n",
       "<table border=\"1\" class=\"dataframe\">\n",
       "  <thead>\n",
       "    <tr style=\"text-align: right;\">\n",
       "      <th></th>\n",
       "      <th>unique_id</th>\n",
       "      <th>title</th>\n",
       "      <th>job_company</th>\n",
       "      <th>company_link</th>\n",
       "      <th>job_location</th>\n",
       "      <th>contract_type</th>\n",
       "      <th>wrk_time</th>\n",
       "      <th>date</th>\n",
       "      <th>job_url</th>\n",
       "      <th>sections_str</th>\n",
       "      <th>urls</th>\n",
       "      <th>searches</th>\n",
       "      <th>job_count</th>\n",
       "      <th>search</th>\n",
       "      <th>function_level_2</th>\n",
       "      <th>region</th>\n",
       "      <th>company_name</th>\n",
       "      <th>company_location</th>\n",
       "      <th>company_sector</th>\n",
       "      <th>company_rating</th>\n",
       "      <th>company_rating_count</th>\n",
       "      <th>company_job_count</th>\n",
       "      <th>company_employee_count</th>\n",
       "      <th>company_website</th>\n",
       "      <th>company_metadatablock</th>\n",
       "      <th>function_level2_label</th>\n",
       "      <th>function_level1_label</th>\n",
       "      <th>function_level_1</th>\n",
       "      <th>job_id</th>\n",
       "      <th>sectionlength</th>\n",
       "      <th>section_list</th>\n",
       "      <th>section1</th>\n",
       "      <th>section2</th>\n",
       "      <th>section3</th>\n",
       "      <th>section4</th>\n",
       "      <th>section5</th>\n",
       "      <th>section6</th>\n",
       "      <th>function_both_levels</th>\n",
       "      <th>function_both_levels_count</th>\n",
       "      <th>Führungskraft</th>\n",
       "      <th>kldb10_2</th>\n",
       "      <th>kldb10_3</th>\n",
       "      <th>kldb10_4</th>\n",
       "      <th>kldb10_2_label</th>\n",
       "      <th>kldb10_3_label</th>\n",
       "      <th>frauenanteil_mz14_kldb10_2</th>\n",
       "      <th>Frauenanteil_MZ14_kldb10_3</th>\n",
       "      <th>Bundesland</th>\n",
       "      <th>Vertragsart</th>\n",
       "      <th>Befristung</th>\n",
       "      <th>company_emp_count</th>\n",
       "      <th>company_emp_count_gendered</th>\n",
       "      <th>sections_wordcount</th>\n",
       "    </tr>\n",
       "  </thead>\n",
       "  <tbody>\n",
       "    <tr>\n",
       "      <th>20134</th>\n",
       "      <td>20136</td>\n",
       "      <td>Berater / Verkäufer für Bodenbeläge im Außendi...</td>\n",
       "      <td>Altro Debolon</td>\n",
       "      <td>https://www.stepstone.de/cmp/de/Altro-Debolon-...</td>\n",
       "      <td>Region Bayreuth, Nürnberg, Erlangen, Regensburg</td>\n",
       "      <td>Feste Anstellung</td>\n",
       "      <td>Vollzeit</td>\n",
       "      <td>2019-07-16</td>\n",
       "      <td>https://www.stepstone.de/stellenangebote--Bera...</td>\n",
       "      <td>['Wenn Kollegen Freunde werden. Die Grundlage ...</td>\n",
       "      <td>https://www.stepstone.de/stellenangebote--Bera...</td>\n",
       "      <td>https://www.stepstone.de/5/ergebnisliste.html?...</td>\n",
       "      <td>267</td>\n",
       "      <td>https://www.stepstone.de/5/ergebnisliste.html?...</td>\n",
       "      <td>2003000</td>\n",
       "      <td>200000081</td>\n",
       "      <td>Altro Debolon</td>\n",
       "      <td>06846 Dessau-Roßlau, Deutschland</td>\n",
       "      <td>NaN</td>\n",
       "      <td>NaN</td>\n",
       "      <td>NaN</td>\n",
       "      <td>1.0</td>\n",
       "      <td>NaN</td>\n",
       "      <td>NaN</td>\n",
       "      <td>NaN</td>\n",
       "      <td>Außendienst</td>\n",
       "      <td>Vertrieb und Verkauf</td>\n",
       "      <td>2000000</td>\n",
       "      <td>5908712</td>\n",
       "      <td>5</td>\n",
       "      <td>['Wenn Kollegen Freunde werden. Die Grundlage ...</td>\n",
       "      <td>Wenn Kollegen Freunde werden. Die Grundlage da...</td>\n",
       "      <td>Erklärungsbedürftiger Vertrieb bei Innovations...</td>\n",
       "      <td>Sie und Altro Debolon: Fachlich bewegen Sie si...</td>\n",
       "      <td>Altro Debolon bewirbt sich bei Ihnen: mit eine...</td>\n",
       "      <td>Kontakt: Wir freuen uns, Sie bald zu treffen. ...</td>\n",
       "      <td>NaN</td>\n",
       "      <td>Außendienst - Vertrieb und Verkauf</td>\n",
       "      <td>1583</td>\n",
       "      <td>0</td>\n",
       "      <td>61.0</td>\n",
       "      <td>611.0</td>\n",
       "      <td>6112.0</td>\n",
       "      <td>Einkaufs-, Vertriebs- und Handelsberufe</td>\n",
       "      <td>Einkauf und Vertrieb</td>\n",
       "      <td>0.367397</td>\n",
       "      <td>30.94</td>\n",
       "      <td>Bayern</td>\n",
       "      <td>Anstellung</td>\n",
       "      <td>nicht bekannt</td>\n",
       "      <td>NaN</td>\n",
       "      <td>0</td>\n",
       "      <td>1032</td>\n",
       "    </tr>\n",
       "    <tr>\n",
       "      <th>40724</th>\n",
       "      <td>40726</td>\n",
       "      <td>Professur für das Lehrgebiet „Konstruktion und...</td>\n",
       "      <td>Hochschule für Angewandte Wissenschaften Hamburg</td>\n",
       "      <td>https://www.stepstone.de/cmp/de/Hochschule-fue...</td>\n",
       "      <td>Hamburg</td>\n",
       "      <td>Feste Anstellung</td>\n",
       "      <td>Vollzeit</td>\n",
       "      <td>2019-07-22</td>\n",
       "      <td>https://www.stepstone.de/stellenangebote--Prof...</td>\n",
       "      <td>['FAKULTÄT TECHNIK UND INFORMATIK - DEPARTMENT...</td>\n",
       "      <td>https://www.stepstone.de/stellenangebote--Prof...</td>\n",
       "      <td>https://www.stepstone.de/5/ergebnisliste.html?...</td>\n",
       "      <td>3</td>\n",
       "      <td>https://www.stepstone.de/5/ergebnisliste.html?...</td>\n",
       "      <td>22004000</td>\n",
       "      <td>423640</td>\n",
       "      <td>Hochschule für Angewandte Wissenschaften Hamburg</td>\n",
       "      <td>Hamburg</td>\n",
       "      <td>NaN</td>\n",
       "      <td>NaN</td>\n",
       "      <td>NaN</td>\n",
       "      <td>7.0</td>\n",
       "      <td>NaN</td>\n",
       "      <td>NaN</td>\n",
       "      <td>&lt;div data-block=\"app-inShort\" data-brand=\"{}\" ...</td>\n",
       "      <td>Universität, Fachhochschule</td>\n",
       "      <td>Bildung und Soziales</td>\n",
       "      <td>22000000</td>\n",
       "      <td>5931130</td>\n",
       "      <td>5</td>\n",
       "      <td>['FAKULTÄT TECHNIK UND INFORMATIK - DEPARTMENT...</td>\n",
       "      <td>FAKULTÄT TECHNIK UND INFORMATIK - DEPARTMENT F...</td>\n",
       "      <td>IHRE AUFGABEN Sie vertreten die Fachgebiete Ko...</td>\n",
       "      <td>IHR PROFIL Sie haben ein Hochschulstudium der ...</td>\n",
       "      <td>UNSER ANGEBOT Wir bieten Ihnen eine anspruchsv...</td>\n",
       "      <td>WIR FREUEN UNS AUF IHRE BEWERBUNG Die Hochschu...</td>\n",
       "      <td>NaN</td>\n",
       "      <td>Universität, Fachhochschule - Bildung und Sozi...</td>\n",
       "      <td>26</td>\n",
       "      <td>0</td>\n",
       "      <td>84.0</td>\n",
       "      <td>843.0</td>\n",
       "      <td>8430.0</td>\n",
       "      <td>Lehrende und ausbildende Berufe</td>\n",
       "      <td>Lehr-,Forschungstätigkeit an Hochschulen</td>\n",
       "      <td>0.582022</td>\n",
       "      <td>40.06</td>\n",
       "      <td>Hamburg</td>\n",
       "      <td>Anstellung</td>\n",
       "      <td>nicht bekannt</td>\n",
       "      <td>NaN</td>\n",
       "      <td>0</td>\n",
       "      <td>1240</td>\n",
       "    </tr>\n",
       "  </tbody>\n",
       "</table>\n",
       "</div>"
      ],
      "text/plain": [
       "       unique_id                                              title  \\\n",
       "20134      20136  Berater / Verkäufer für Bodenbeläge im Außendi...   \n",
       "40724      40726  Professur für das Lehrgebiet „Konstruktion und...   \n",
       "\n",
       "                                            job_company  \\\n",
       "20134                                     Altro Debolon   \n",
       "40724  Hochschule für Angewandte Wissenschaften Hamburg   \n",
       "\n",
       "                                            company_link  \\\n",
       "20134  https://www.stepstone.de/cmp/de/Altro-Debolon-...   \n",
       "40724  https://www.stepstone.de/cmp/de/Hochschule-fue...   \n",
       "\n",
       "                                          job_location     contract_type  \\\n",
       "20134  Region Bayreuth, Nürnberg, Erlangen, Regensburg  Feste Anstellung   \n",
       "40724                                          Hamburg  Feste Anstellung   \n",
       "\n",
       "       wrk_time        date  \\\n",
       "20134  Vollzeit  2019-07-16   \n",
       "40724  Vollzeit  2019-07-22   \n",
       "\n",
       "                                                 job_url  \\\n",
       "20134  https://www.stepstone.de/stellenangebote--Bera...   \n",
       "40724  https://www.stepstone.de/stellenangebote--Prof...   \n",
       "\n",
       "                                            sections_str  \\\n",
       "20134  ['Wenn Kollegen Freunde werden. Die Grundlage ...   \n",
       "40724  ['FAKULTÄT TECHNIK UND INFORMATIK - DEPARTMENT...   \n",
       "\n",
       "                                                    urls  \\\n",
       "20134  https://www.stepstone.de/stellenangebote--Bera...   \n",
       "40724  https://www.stepstone.de/stellenangebote--Prof...   \n",
       "\n",
       "                                                searches  job_count  \\\n",
       "20134  https://www.stepstone.de/5/ergebnisliste.html?...        267   \n",
       "40724  https://www.stepstone.de/5/ergebnisliste.html?...          3   \n",
       "\n",
       "                                                  search  function_level_2  \\\n",
       "20134  https://www.stepstone.de/5/ergebnisliste.html?...           2003000   \n",
       "40724  https://www.stepstone.de/5/ergebnisliste.html?...          22004000   \n",
       "\n",
       "          region                                      company_name  \\\n",
       "20134  200000081                                     Altro Debolon   \n",
       "40724     423640  Hochschule für Angewandte Wissenschaften Hamburg   \n",
       "\n",
       "                       company_location company_sector  company_rating  \\\n",
       "20134  06846 Dessau-Roßlau, Deutschland            NaN             NaN   \n",
       "40724                           Hamburg            NaN             NaN   \n",
       "\n",
       "       company_rating_count  company_job_count company_employee_count  \\\n",
       "20134                   NaN                1.0                    NaN   \n",
       "40724                   NaN                7.0                    NaN   \n",
       "\n",
       "      company_website                              company_metadatablock  \\\n",
       "20134             NaN                                                NaN   \n",
       "40724             NaN  <div data-block=\"app-inShort\" data-brand=\"{}\" ...   \n",
       "\n",
       "             function_level2_label function_level1_label  function_level_1  \\\n",
       "20134                  Außendienst  Vertrieb und Verkauf           2000000   \n",
       "40724  Universität, Fachhochschule  Bildung und Soziales          22000000   \n",
       "\n",
       "        job_id  sectionlength  \\\n",
       "20134  5908712              5   \n",
       "40724  5931130              5   \n",
       "\n",
       "                                            section_list  \\\n",
       "20134  ['Wenn Kollegen Freunde werden. Die Grundlage ...   \n",
       "40724  ['FAKULTÄT TECHNIK UND INFORMATIK - DEPARTMENT...   \n",
       "\n",
       "                                                section1  \\\n",
       "20134  Wenn Kollegen Freunde werden. Die Grundlage da...   \n",
       "40724  FAKULTÄT TECHNIK UND INFORMATIK - DEPARTMENT F...   \n",
       "\n",
       "                                                section2  \\\n",
       "20134  Erklärungsbedürftiger Vertrieb bei Innovations...   \n",
       "40724  IHRE AUFGABEN Sie vertreten die Fachgebiete Ko...   \n",
       "\n",
       "                                                section3  \\\n",
       "20134  Sie und Altro Debolon: Fachlich bewegen Sie si...   \n",
       "40724  IHR PROFIL Sie haben ein Hochschulstudium der ...   \n",
       "\n",
       "                                                section4  \\\n",
       "20134  Altro Debolon bewirbt sich bei Ihnen: mit eine...   \n",
       "40724  UNSER ANGEBOT Wir bieten Ihnen eine anspruchsv...   \n",
       "\n",
       "                                                section5 section6  \\\n",
       "20134  Kontakt: Wir freuen uns, Sie bald zu treffen. ...      NaN   \n",
       "40724  WIR FREUEN UNS AUF IHRE BEWERBUNG Die Hochschu...      NaN   \n",
       "\n",
       "                                    function_both_levels  \\\n",
       "20134                 Außendienst - Vertrieb und Verkauf   \n",
       "40724  Universität, Fachhochschule - Bildung und Sozi...   \n",
       "\n",
       "       function_both_levels_count  Führungskraft  kldb10_2  kldb10_3  \\\n",
       "20134                        1583              0      61.0     611.0   \n",
       "40724                          26              0      84.0     843.0   \n",
       "\n",
       "       kldb10_4                           kldb10_2_label  \\\n",
       "20134    6112.0  Einkaufs-, Vertriebs- und Handelsberufe   \n",
       "40724    8430.0          Lehrende und ausbildende Berufe   \n",
       "\n",
       "                                 kldb10_3_label  frauenanteil_mz14_kldb10_2  \\\n",
       "20134                      Einkauf und Vertrieb                    0.367397   \n",
       "40724  Lehr-,Forschungstätigkeit an Hochschulen                    0.582022   \n",
       "\n",
       "       Frauenanteil_MZ14_kldb10_3 Bundesland Vertragsart     Befristung  \\\n",
       "20134                       30.94     Bayern  Anstellung  nicht bekannt   \n",
       "40724                       40.06    Hamburg  Anstellung  nicht bekannt   \n",
       "\n",
       "       company_emp_count  company_emp_count_gendered  sections_wordcount  \n",
       "20134                NaN                           0                1032  \n",
       "40724                NaN                           0                1240  "
      ]
     },
     "execution_count": 41,
     "metadata": {},
     "output_type": "execute_result"
    }
   ],
   "source": [
    "df[df['sections_wordcount'] > 1000].head()"
   ]
  },
  {
   "cell_type": "code",
   "execution_count": 42,
   "metadata": {},
   "outputs": [
    {
     "data": {
      "text/html": [
       "<div>\n",
       "<style scoped>\n",
       "    .dataframe tbody tr th:only-of-type {\n",
       "        vertical-align: middle;\n",
       "    }\n",
       "\n",
       "    .dataframe tbody tr th {\n",
       "        vertical-align: top;\n",
       "    }\n",
       "\n",
       "    .dataframe thead th {\n",
       "        text-align: right;\n",
       "    }\n",
       "</style>\n",
       "<table border=\"1\" class=\"dataframe\">\n",
       "  <thead>\n",
       "    <tr style=\"text-align: right;\">\n",
       "      <th></th>\n",
       "      <th>sections_wordcount</th>\n",
       "      <th>company_emp_count</th>\n",
       "    </tr>\n",
       "  </thead>\n",
       "  <tbody>\n",
       "    <tr>\n",
       "      <th>sections_wordcount</th>\n",
       "      <td>1.000000</td>\n",
       "      <td>0.268601</td>\n",
       "    </tr>\n",
       "    <tr>\n",
       "      <th>company_emp_count</th>\n",
       "      <td>0.268601</td>\n",
       "      <td>1.000000</td>\n",
       "    </tr>\n",
       "  </tbody>\n",
       "</table>\n",
       "</div>"
      ],
      "text/plain": [
       "                    sections_wordcount  company_emp_count\n",
       "sections_wordcount            1.000000           0.268601\n",
       "company_emp_count             0.268601           1.000000"
      ]
     },
     "execution_count": 42,
     "metadata": {},
     "output_type": "execute_result"
    }
   ],
   "source": [
    "df[[\"sections_wordcount\", \"company_emp_count\"]].corr(method=\"pearson\")"
   ]
  },
  {
   "cell_type": "markdown",
   "metadata": {},
   "source": [
    "## Female / male word counts & FM-Score\n",
    "* https://github.com/sgsinclair/alta/blob/dc47e4b47b133cee24a85e9817592971e67681cd/ipynb/utilities/ComplexSentimentAnalysis.ipynb"
   ]
  },
  {
   "cell_type": "code",
   "execution_count": 43,
   "metadata": {},
   "outputs": [
    {
     "data": {
      "text/html": [
       "<div>\n",
       "<style scoped>\n",
       "    .dataframe tbody tr th:only-of-type {\n",
       "        vertical-align: middle;\n",
       "    }\n",
       "\n",
       "    .dataframe tbody tr th {\n",
       "        vertical-align: top;\n",
       "    }\n",
       "\n",
       "    .dataframe thead th {\n",
       "        text-align: right;\n",
       "    }\n",
       "</style>\n",
       "<table border=\"1\" class=\"dataframe\">\n",
       "  <thead>\n",
       "    <tr style=\"text-align: right;\">\n",
       "      <th></th>\n",
       "      <th>unique_id</th>\n",
       "      <th>title</th>\n",
       "      <th>job_company</th>\n",
       "      <th>company_link</th>\n",
       "      <th>job_location</th>\n",
       "      <th>contract_type</th>\n",
       "      <th>wrk_time</th>\n",
       "      <th>date</th>\n",
       "      <th>job_url</th>\n",
       "      <th>sections_str</th>\n",
       "      <th>urls</th>\n",
       "      <th>searches</th>\n",
       "      <th>job_count</th>\n",
       "      <th>search</th>\n",
       "      <th>function_level_2</th>\n",
       "      <th>region</th>\n",
       "      <th>company_name</th>\n",
       "      <th>company_location</th>\n",
       "      <th>company_sector</th>\n",
       "      <th>company_rating</th>\n",
       "      <th>company_rating_count</th>\n",
       "      <th>company_job_count</th>\n",
       "      <th>company_employee_count</th>\n",
       "      <th>company_website</th>\n",
       "      <th>company_metadatablock</th>\n",
       "      <th>function_level2_label</th>\n",
       "      <th>function_level1_label</th>\n",
       "      <th>function_level_1</th>\n",
       "      <th>job_id</th>\n",
       "      <th>sectionlength</th>\n",
       "      <th>section_list</th>\n",
       "      <th>section1</th>\n",
       "      <th>section2</th>\n",
       "      <th>section3</th>\n",
       "      <th>section4</th>\n",
       "      <th>section5</th>\n",
       "      <th>section6</th>\n",
       "      <th>function_both_levels</th>\n",
       "      <th>function_both_levels_count</th>\n",
       "      <th>Führungskraft</th>\n",
       "      <th>kldb10_2</th>\n",
       "      <th>kldb10_3</th>\n",
       "      <th>kldb10_4</th>\n",
       "      <th>kldb10_2_label</th>\n",
       "      <th>kldb10_3_label</th>\n",
       "      <th>frauenanteil_mz14_kldb10_2</th>\n",
       "      <th>Frauenanteil_MZ14_kldb10_3</th>\n",
       "      <th>Bundesland</th>\n",
       "      <th>Vertragsart</th>\n",
       "      <th>Befristung</th>\n",
       "      <th>company_emp_count</th>\n",
       "      <th>company_emp_count_gendered</th>\n",
       "      <th>sections_wordcount</th>\n",
       "    </tr>\n",
       "  </thead>\n",
       "  <tbody>\n",
       "    <tr>\n",
       "      <th>0</th>\n",
       "      <td>1</td>\n",
       "      <td>Automatisierer (w/m/d)</td>\n",
       "      <td>Berliner Wasserbetriebe</td>\n",
       "      <td>https://www.stepstone.de/cmp/de/Berliner-Wasse...</td>\n",
       "      <td>Berlin</td>\n",
       "      <td>Feste Anstellung</td>\n",
       "      <td>Vollzeit</td>\n",
       "      <td>2019-07-18</td>\n",
       "      <td>https://www.stepstone.de/stellenangebote--Auto...</td>\n",
       "      <td>['Über die Berliner Wasserbetriebe Die Berline...</td>\n",
       "      <td>https://www.stepstone.de/stellenangebote--Auto...</td>\n",
       "      <td>https://www.stepstone.de/5/ergebnisliste.html?...</td>\n",
       "      <td>9</td>\n",
       "      <td>https://www.stepstone.de/5/ergebnisliste.html?...</td>\n",
       "      <td>10012000</td>\n",
       "      <td>419239</td>\n",
       "      <td>Berliner Wasserbetriebe</td>\n",
       "      <td>Berlin</td>\n",
       "      <td>Energie- und Wasserversorgung &amp; Entsorgung</td>\n",
       "      <td>4.6</td>\n",
       "      <td>17.0</td>\n",
       "      <td>23.0</td>\n",
       "      <td>0-50</td>\n",
       "      <td>http://netzdermöglichkeiten.de</td>\n",
       "      <td>&lt;div data-block=\"app-inShort\" data-brand='{\"pr...</td>\n",
       "      <td>Automatisierungstechnik</td>\n",
       "      <td>Ingenieure und technische Berufe</td>\n",
       "      <td>10000000</td>\n",
       "      <td>5922324</td>\n",
       "      <td>5</td>\n",
       "      <td>['Über die Berliner Wasserbetriebe Die Berline...</td>\n",
       "      <td>Über die Berliner Wasserbetriebe Die Berliner ...</td>\n",
       "      <td>Was Sie bei uns bewegen Eigenständige Programm...</td>\n",
       "      <td>Das bringen Sie mit Bachelorabschluss Elektro-...</td>\n",
       "      <td>Warum Sie sich für uns entscheiden sollten Inn...</td>\n",
       "      <td>Informationen zur Bewerbung Ihre Ansprechpartn...</td>\n",
       "      <td>NaN</td>\n",
       "      <td>Automatisierungstechnik - Ingenieure und techn...</td>\n",
       "      <td>192</td>\n",
       "      <td>0</td>\n",
       "      <td>26.0</td>\n",
       "      <td>261.0</td>\n",
       "      <td>2612.0</td>\n",
       "      <td>Mechatronik-, Energie- u. Elektroberufe</td>\n",
       "      <td>Mechatronik und Automatisierungstechnik</td>\n",
       "      <td>0.086381</td>\n",
       "      <td>5.69</td>\n",
       "      <td>Berlin</td>\n",
       "      <td>Anstellung</td>\n",
       "      <td>nicht bekannt</td>\n",
       "      <td>50.0</td>\n",
       "      <td>0</td>\n",
       "      <td>402</td>\n",
       "    </tr>\n",
       "  </tbody>\n",
       "</table>\n",
       "</div>"
      ],
      "text/plain": [
       "   unique_id                   title              job_company  \\\n",
       "0          1  Automatisierer (w/m/d)  Berliner Wasserbetriebe   \n",
       "\n",
       "                                        company_link job_location  \\\n",
       "0  https://www.stepstone.de/cmp/de/Berliner-Wasse...       Berlin   \n",
       "\n",
       "      contract_type  wrk_time        date  \\\n",
       "0  Feste Anstellung  Vollzeit  2019-07-18   \n",
       "\n",
       "                                             job_url  \\\n",
       "0  https://www.stepstone.de/stellenangebote--Auto...   \n",
       "\n",
       "                                        sections_str  \\\n",
       "0  ['Über die Berliner Wasserbetriebe Die Berline...   \n",
       "\n",
       "                                                urls  \\\n",
       "0  https://www.stepstone.de/stellenangebote--Auto...   \n",
       "\n",
       "                                            searches  job_count  \\\n",
       "0  https://www.stepstone.de/5/ergebnisliste.html?...          9   \n",
       "\n",
       "                                              search  function_level_2  \\\n",
       "0  https://www.stepstone.de/5/ergebnisliste.html?...          10012000   \n",
       "\n",
       "   region             company_name company_location  \\\n",
       "0  419239  Berliner Wasserbetriebe           Berlin   \n",
       "\n",
       "                               company_sector  company_rating  \\\n",
       "0  Energie- und Wasserversorgung & Entsorgung             4.6   \n",
       "\n",
       "   company_rating_count  company_job_count company_employee_count  \\\n",
       "0                  17.0               23.0                   0-50   \n",
       "\n",
       "                  company_website  \\\n",
       "0  http://netzdermöglichkeiten.de   \n",
       "\n",
       "                               company_metadatablock    function_level2_label  \\\n",
       "0  <div data-block=\"app-inShort\" data-brand='{\"pr...  Automatisierungstechnik   \n",
       "\n",
       "              function_level1_label  function_level_1   job_id  sectionlength  \\\n",
       "0  Ingenieure und technische Berufe          10000000  5922324              5   \n",
       "\n",
       "                                        section_list  \\\n",
       "0  ['Über die Berliner Wasserbetriebe Die Berline...   \n",
       "\n",
       "                                            section1  \\\n",
       "0  Über die Berliner Wasserbetriebe Die Berliner ...   \n",
       "\n",
       "                                            section2  \\\n",
       "0  Was Sie bei uns bewegen Eigenständige Programm...   \n",
       "\n",
       "                                            section3  \\\n",
       "0  Das bringen Sie mit Bachelorabschluss Elektro-...   \n",
       "\n",
       "                                            section4  \\\n",
       "0  Warum Sie sich für uns entscheiden sollten Inn...   \n",
       "\n",
       "                                            section5 section6  \\\n",
       "0  Informationen zur Bewerbung Ihre Ansprechpartn...      NaN   \n",
       "\n",
       "                                function_both_levels  \\\n",
       "0  Automatisierungstechnik - Ingenieure und techn...   \n",
       "\n",
       "   function_both_levels_count  Führungskraft  kldb10_2  kldb10_3  kldb10_4  \\\n",
       "0                         192              0      26.0     261.0    2612.0   \n",
       "\n",
       "                            kldb10_2_label  \\\n",
       "0  Mechatronik-, Energie- u. Elektroberufe   \n",
       "\n",
       "                            kldb10_3_label  frauenanteil_mz14_kldb10_2  \\\n",
       "0  Mechatronik und Automatisierungstechnik                    0.086381   \n",
       "\n",
       "   Frauenanteil_MZ14_kldb10_3 Bundesland Vertragsart     Befristung  \\\n",
       "0                        5.69     Berlin  Anstellung  nicht bekannt   \n",
       "\n",
       "   company_emp_count  company_emp_count_gendered  sections_wordcount  \n",
       "0               50.0                           0                 402  "
      ]
     },
     "execution_count": 43,
     "metadata": {},
     "output_type": "execute_result"
    }
   ],
   "source": [
    "df.head(1)"
   ]
  },
  {
   "cell_type": "code",
   "execution_count": 44,
   "metadata": {},
   "outputs": [],
   "source": [
    "from nltk.tokenize import RegexpTokenizer\n",
    "from nltk.corpus import stopwords\n",
    "import string\n",
    "tokenizer = RegexpTokenizer(r'\\w+')"
   ]
  },
  {
   "cell_type": "code",
   "execution_count": 45,
   "metadata": {},
   "outputs": [
    {
     "data": {
      "text/plain": [
       "['schönlein',\n",
       " 'verkehrstechnik',\n",
       " 'gmbh',\n",
       " 'überzeugen',\n",
       " 'durch',\n",
       " 'leistung',\n",
       " 'als',\n",
       " 'fachunternehmen',\n",
       " 'sind',\n",
       " 'wir',\n",
       " 'durch',\n",
       " 'unser',\n",
       " 'personal',\n",
       " 'zertifiziert',\n",
       " 'baustellensicherungen',\n",
       " 'und',\n",
       " 'verkehrsplanungen',\n",
       " 'auf',\n",
       " 'allen',\n",
       " 'land',\n",
       " 'und',\n",
       " 'bundesstraßen',\n",
       " 'sowie',\n",
       " 'bundesautobahnen',\n",
       " 'sowohl',\n",
       " 'inner',\n",
       " 'als',\n",
       " 'auch',\n",
       " 'außer',\n",
       " 'orts',\n",
       " 'auszuführen',\n",
       " 'unser',\n",
       " 'umfangreiches',\n",
       " 'leistungsspektrum',\n",
       " 'beinhaltet',\n",
       " 'weitreichende',\n",
       " 'serviceangebote',\n",
       " 'rund',\n",
       " 'um',\n",
       " 'baustellen',\n",
       " 'und',\n",
       " 'verkehrssicherung',\n",
       " 'die',\n",
       " 'fahrbahnmarkierung',\n",
       " 'und',\n",
       " 'die',\n",
       " 'eventabsicherung',\n",
       " 'durch',\n",
       " 'temporäre',\n",
       " 'lichtsignalanlagen',\n",
       " 'verkehrszeichen',\n",
       " 'sowie',\n",
       " 'bauzäune',\n",
       " 'zur',\n",
       " 'unterstützung',\n",
       " 'unserer',\n",
       " 'teams',\n",
       " 'an',\n",
       " 'den',\n",
       " 'standorten',\n",
       " 'dresden',\n",
       " 'leipzig',\n",
       " 'cottbus',\n",
       " 'chemnitz',\n",
       " 'und',\n",
       " 'löbau',\n",
       " 'sowie',\n",
       " 'berlin',\n",
       " 'hamburg',\n",
       " 'und',\n",
       " 'mannheim',\n",
       " 'suchen',\n",
       " 'wir',\n",
       " 'verkehrsingenieure',\n",
       " 'innen',\n",
       " 'wir',\n",
       " 'bieten',\n",
       " 'ihnen',\n",
       " 'eine',\n",
       " 'abwechslungsreiche',\n",
       " 'und',\n",
       " 'anspruchsvolle',\n",
       " 'tätigkeit',\n",
       " 'sowie',\n",
       " 'ein',\n",
       " 'unbefristetes',\n",
       " 'arbeitsverhältnis',\n",
       " 'ferner',\n",
       " 'werden',\n",
       " 'ihnen',\n",
       " 'ein',\n",
       " 'firmenwagen',\n",
       " 'und',\n",
       " 'ein',\n",
       " 'firmen',\n",
       " 'handy',\n",
       " 'bereitgestellt',\n",
       " 'ihre',\n",
       " 'aufgaben',\n",
       " 'planung',\n",
       " 'ausführung',\n",
       " 'und',\n",
       " 'überwachung',\n",
       " 'von',\n",
       " 'bauvorhaben',\n",
       " 'erstellung',\n",
       " 'von',\n",
       " 'verkehrstechnischen',\n",
       " 'unterlagen',\n",
       " 'für',\n",
       " 'temporäre',\n",
       " 'lichtsignalanlagen',\n",
       " 'erarbeitung',\n",
       " 'von',\n",
       " 'verkehrskonzepten',\n",
       " 'einholen',\n",
       " 'verkehrstechnischer',\n",
       " 'anordnungen',\n",
       " 'bei',\n",
       " 'den',\n",
       " 'zuständigen',\n",
       " 'ämtern',\n",
       " 'korrespondenz',\n",
       " 'mit',\n",
       " 'baufirmen',\n",
       " 'ämtern',\n",
       " 'etc',\n",
       " 'ihre',\n",
       " 'voraussetzungen',\n",
       " 'abgeschlossenes',\n",
       " 'studium',\n",
       " 'im',\n",
       " 'bereich',\n",
       " 'verkehrsingenieurwesen',\n",
       " 'bauingenieurwesen',\n",
       " 'verkehrswirtschaft',\n",
       " 'o',\n",
       " 'ä',\n",
       " 'teamfähigkeit',\n",
       " 'und',\n",
       " 'kontaktfähigkeit',\n",
       " 'selbstständige',\n",
       " 'und',\n",
       " 'gewissenhafte',\n",
       " 'arbeitsweise',\n",
       " 'hohes',\n",
       " 'engagement',\n",
       " 'und',\n",
       " 'einsatzbereitschaft',\n",
       " 'sehr',\n",
       " 'gute',\n",
       " 'kenntnisse',\n",
       " 'mit',\n",
       " 'microsoft',\n",
       " 'office',\n",
       " 'erfahrungen',\n",
       " 'mit',\n",
       " 'den',\n",
       " 'softwarelösungen',\n",
       " 'rsa',\n",
       " 'projekt',\n",
       " 'von',\n",
       " 'edv',\n",
       " 'dr',\n",
       " 'haller',\n",
       " 'sowie',\n",
       " 'lisa',\n",
       " 'von',\n",
       " 'schlothauer',\n",
       " 'wauer',\n",
       " 'sind',\n",
       " 'wünschenswert',\n",
       " 'grundkenntnisse',\n",
       " 'im',\n",
       " 'umgang',\n",
       " 'mit',\n",
       " 'regelplänen',\n",
       " 'nach',\n",
       " 'den',\n",
       " 'richtlinien',\n",
       " 'für',\n",
       " 'die',\n",
       " 'sicherung',\n",
       " 'von',\n",
       " 'arbeitsstellen',\n",
       " 'an',\n",
       " 'straßen',\n",
       " 'rsa',\n",
       " 'grundkenntnisse',\n",
       " 'im',\n",
       " 'allgemeinen',\n",
       " 'vertragswesen',\n",
       " 'sowie',\n",
       " 'der',\n",
       " 'vob',\n",
       " 'führerschein',\n",
       " 'klasse',\n",
       " 'b',\n",
       " 'kontakt',\n",
       " 'bei',\n",
       " 'interesse',\n",
       " 'bitten',\n",
       " 'wir',\n",
       " 'um',\n",
       " 'eine',\n",
       " 'schriftliche',\n",
       " 'kurzbewerbung',\n",
       " 'vorzugsweise',\n",
       " 'per',\n",
       " 'email',\n",
       " 'an',\n",
       " 'schönlein',\n",
       " 'verkehrstechnik',\n",
       " 'gmbh',\n",
       " 'bismarckstraße',\n",
       " '63a',\n",
       " '01257',\n",
       " 'dresden',\n",
       " 'e',\n",
       " 'mail',\n",
       " 'personal',\n",
       " 'schoenlein',\n",
       " 'com',\n",
       " 'www',\n",
       " 'schoenlein',\n",
       " 'com']"
      ]
     },
     "execution_count": 45,
     "metadata": {},
     "output_type": "execute_result"
    }
   ],
   "source": [
    "tokenizer.tokenize(df[\"sections_str\"].iloc[200].lower())"
   ]
  },
  {
   "cell_type": "code",
   "execution_count": 46,
   "metadata": {},
   "outputs": [],
   "source": [
    "# from somajo import Tokenizer\n",
    "# from nltk.tokenize import WordPunctTokenizer\n",
    "# from nltk.tokenize import word_tokenize"
   ]
  },
  {
   "cell_type": "code",
   "execution_count": 47,
   "metadata": {},
   "outputs": [],
   "source": [
    "# tokenizer = Tokenizer(split_camel_case=True, token_classes=False, extra_info=False)\n",
    "# text = str(df[\"sections_str\"].iloc[28]).lower()\n",
    "# print(text)\n",
    "# word_tokenize(str(text).lower(), language=\"german\")\n",
    "\n",
    "# print(tokens)\n",
    "# WordPunctTokenizer(text)"
   ]
  },
  {
   "cell_type": "code",
   "execution_count": 48,
   "metadata": {},
   "outputs": [],
   "source": [
    "#tokenizer.tokenize(str(text).lower())"
   ]
  },
  {
   "cell_type": "markdown",
   "metadata": {},
   "source": [
    "#### evtl noch pipeline mit stemming/lemmas einbauen!\n",
    "from nltk.stem import WordNetLemmatizer\n",
    "lemmatizer = WordNetLemmatizer()\n",
    "def wordlemmatizer(text):\n",
    "    lem_text = [lemmatizer.lemmatize(i) for i in text]\n",
    "    return lem_text"
   ]
  },
  {
   "cell_type": "markdown",
   "metadata": {},
   "source": [
    "### Funktionen für Zählung & Scoring "
   ]
  },
  {
   "cell_type": "code",
   "execution_count": 49,
   "metadata": {},
   "outputs": [],
   "source": [
    "def female_count(column):\n",
    "    count = 0\n",
    "    tokens = tokenizer.tokenize(str(column).lower())  # word_tokenize(str(column).lower(), language='german')\n",
    "    for word in tokens:\n",
    "        if word in female:\n",
    "            count += 1\n",
    "        else:\n",
    "            pass\n",
    "    return count"
   ]
  },
  {
   "cell_type": "code",
   "execution_count": 50,
   "metadata": {},
   "outputs": [],
   "source": [
    "def male_count(column):\n",
    "    count = 0\n",
    "    tokens = tokenizer.tokenize(str(column).lower()) #word_tokenize(str(column).lower(), language='german') \n",
    "    for word in tokens:\n",
    "        if word in male:\n",
    "            count  += 1\n",
    "        else: \n",
    "            pass\n",
    "    return count"
   ]
  },
  {
   "cell_type": "code",
   "execution_count": 51,
   "metadata": {},
   "outputs": [],
   "source": [
    "def fm_score(column):\n",
    "    # Count female words\n",
    "    tokens = tokenizer.tokenize(str(column).lower()) # word_tokenize(str(column).lower(), language='german')\n",
    "    female_count = 0\n",
    "    for word in tokens:\n",
    "        if word in female:\n",
    "            female_count += 1\n",
    "    # Count male words\n",
    "    male_count = 0\n",
    "    for word in tokens:\n",
    "        if word in male:\n",
    "            male_count += 1\n",
    "    score = (female_count - male_count)\n",
    "    return score"
   ]
  },
  {
   "cell_type": "markdown",
   "metadata": {
    "collapsed": true
   },
   "source": [
    "text = df['sections_str'].iloc[28]\n",
    "tokens1 = tokenizer.tokenize(str(text).lower())\n",
    "tokens2 = word_tokenize(str(text).lower(), language='german')\n",
    "def Diff(tok1, tok2):\n",
    "    diff = [i for i in tok1 + tok2 if i not in tok1 or i not in tok2]\n",
    "    return diff\n",
    "Diff(tokens1, tokens2)"
   ]
  },
  {
   "cell_type": "code",
   "execution_count": 52,
   "metadata": {},
   "outputs": [
    {
     "data": {
      "text/plain": [
       "3"
      ]
     },
     "execution_count": 52,
     "metadata": {},
     "output_type": "execute_result"
    }
   ],
   "source": [
    "male_count(df['sections_str'].iloc[28])"
   ]
  },
  {
   "cell_type": "code",
   "execution_count": 53,
   "metadata": {},
   "outputs": [
    {
     "data": {
      "text/plain": [
       "1"
      ]
     },
     "execution_count": 53,
     "metadata": {},
     "output_type": "execute_result"
    }
   ],
   "source": [
    "female_count(df['sections_str'].iloc[28])"
   ]
  },
  {
   "cell_type": "code",
   "execution_count": 54,
   "metadata": {},
   "outputs": [
    {
     "data": {
      "text/plain": [
       "-2"
      ]
     },
     "execution_count": 54,
     "metadata": {},
     "output_type": "execute_result"
    }
   ],
   "source": [
    "fm_score(df['sections_str'].iloc[28])"
   ]
  },
  {
   "cell_type": "markdown",
   "metadata": {},
   "source": [
    "#### Female Count"
   ]
  },
  {
   "cell_type": "code",
   "execution_count": 55,
   "metadata": {},
   "outputs": [],
   "source": [
    "df[\"sections_femalecount\"] = df[\"sections_str\"].apply(lambda x: female_count(x))"
   ]
  },
  {
   "cell_type": "code",
   "execution_count": 56,
   "metadata": {},
   "outputs": [],
   "source": [
    "df[\"section1_femalecount\"] = df[\"sections_str\"].apply(lambda x: female_count(x))"
   ]
  },
  {
   "cell_type": "code",
   "execution_count": 57,
   "metadata": {},
   "outputs": [],
   "source": [
    "df[\"section2_femalecount\"] = df[\"section2\"].apply(lambda x: female_count(x))"
   ]
  },
  {
   "cell_type": "code",
   "execution_count": 58,
   "metadata": {},
   "outputs": [],
   "source": [
    "df[\"section3_femalecount\"] = df[\"section3\"].apply(lambda x: female_count(x))"
   ]
  },
  {
   "cell_type": "markdown",
   "metadata": {},
   "source": [
    "#### Male Count"
   ]
  },
  {
   "cell_type": "code",
   "execution_count": 59,
   "metadata": {},
   "outputs": [],
   "source": [
    "df[\"sections_malecount\"] = df[\"sections_str\"].apply(lambda x: male_count(x))"
   ]
  },
  {
   "cell_type": "code",
   "execution_count": 60,
   "metadata": {},
   "outputs": [],
   "source": [
    "df[\"section1_malecount\"] = df[\"sections_str\"].apply(lambda x: male_count(x))"
   ]
  },
  {
   "cell_type": "code",
   "execution_count": 61,
   "metadata": {},
   "outputs": [],
   "source": [
    "df[\"section2_malecount\"] = df[\"section2\"].apply(lambda x: male_count(x))"
   ]
  },
  {
   "cell_type": "code",
   "execution_count": 62,
   "metadata": {},
   "outputs": [],
   "source": [
    "df[\"section3_malecount\"] = df[\"section3\"].apply(lambda x: male_count(x))"
   ]
  },
  {
   "cell_type": "code",
   "execution_count": 63,
   "metadata": {},
   "outputs": [],
   "source": [
    "df[\"sections_fmscore\"] = df[\"sections_str\"].apply(lambda x: fm_score(x))"
   ]
  },
  {
   "cell_type": "markdown",
   "metadata": {},
   "source": [
    "#### FM-Score \n",
    "* Female count - male count"
   ]
  },
  {
   "cell_type": "code",
   "execution_count": 65,
   "metadata": {},
   "outputs": [],
   "source": [
    "df[\"section1_fmscore\"] = df[\"sections_str\"].apply(lambda x: fm_score(x))"
   ]
  },
  {
   "cell_type": "code",
   "execution_count": 66,
   "metadata": {},
   "outputs": [],
   "source": [
    "df[\"section2_fmscore\"] = df[\"section2\"].apply(lambda x: fm_score(x))"
   ]
  },
  {
   "cell_type": "code",
   "execution_count": 67,
   "metadata": {},
   "outputs": [],
   "source": [
    "df[\"section3_fmscore\"] = df[\"section3\"].apply(lambda x: fm_score(x))"
   ]
  },
  {
   "cell_type": "markdown",
   "metadata": {},
   "source": [
    "### Stereotype im kompletten Anzeigentext"
   ]
  },
  {
   "cell_type": "code",
   "execution_count": 68,
   "metadata": {},
   "outputs": [],
   "source": [
    "# 245358 mit oder ohne lemma bei male/female lists\n",
    "# evtl Unterschied wenn tokens gelemmatized werden (pipeline?)\n",
    "# word_tokenize 245814\n",
    "# Tokenizer.tokenize: 252178\n",
    "# Umbrüche/non-break-space usw. entfernt: 253235\n",
    "# missings entfernt: 253235"
   ]
  },
  {
   "cell_type": "code",
   "execution_count": 69,
   "metadata": {
    "scrolled": true
   },
   "outputs": [
    {
     "name": "stdout",
     "output_type": "stream",
     "text": [
      "372730\n"
     ]
    },
    {
     "data": {
      "text/plain": [
       "count    50451.000000\n",
       "mean         7.387961\n",
       "std          3.794455\n",
       "min          0.000000\n",
       "25%          5.000000\n",
       "50%          7.000000\n",
       "75%         10.000000\n",
       "max         30.000000\n",
       "Name: sections_fm_count, dtype: float64"
      ]
     },
     "execution_count": 69,
     "metadata": {},
     "output_type": "execute_result"
    }
   ],
   "source": [
    "df[\"sections_fm_count\"] = df[\"sections_malecount\"] + df[\"sections_femalecount\"]\n",
    "print(df[\"sections_fm_count\"].sum())\n",
    "df[\"sections_fm_count\"].describe()"
   ]
  },
  {
   "cell_type": "markdown",
   "metadata": {},
   "source": [
    "### Section 1: Firmenprofil"
   ]
  },
  {
   "cell_type": "code",
   "execution_count": 70,
   "metadata": {},
   "outputs": [
    {
     "name": "stdout",
     "output_type": "stream",
     "text": [
      "372730\n"
     ]
    },
    {
     "data": {
      "text/plain": [
       "count    50451.000000\n",
       "mean         7.387961\n",
       "std          3.794455\n",
       "min          0.000000\n",
       "25%          5.000000\n",
       "50%          7.000000\n",
       "75%         10.000000\n",
       "max         30.000000\n",
       "Name: section1_fm_count, dtype: float64"
      ]
     },
     "execution_count": 70,
     "metadata": {},
     "output_type": "execute_result"
    }
   ],
   "source": [
    "df[\"section1_fm_count\"] = df[\"section1_malecount\"] + df[\"section1_femalecount\"]\n",
    "print(df[\"section1_fm_count\"].sum())\n",
    "df[\"section1_fm_count\"].describe()"
   ]
  },
  {
   "cell_type": "markdown",
   "metadata": {},
   "source": [
    "### Section 2: Stellenprofil"
   ]
  },
  {
   "cell_type": "code",
   "execution_count": 71,
   "metadata": {},
   "outputs": [
    {
     "name": "stdout",
     "output_type": "stream",
     "text": [
      "83123\n"
     ]
    },
    {
     "data": {
      "text/plain": [
       "count    50451.000000\n",
       "mean         1.647599\n",
       "std          1.788365\n",
       "min          0.000000\n",
       "25%          0.000000\n",
       "50%          1.000000\n",
       "75%          2.000000\n",
       "max         24.000000\n",
       "Name: section2_fm_count, dtype: float64"
      ]
     },
     "execution_count": 71,
     "metadata": {},
     "output_type": "execute_result"
    }
   ],
   "source": [
    "df[\"section2_fm_count\"] = df[\"section2_malecount\"] + df[\"section2_femalecount\"]\n",
    "print(df[\"section2_fm_count\"].sum())\n",
    "df[\"section2_fm_count\"].describe()"
   ]
  },
  {
   "cell_type": "markdown",
   "metadata": {},
   "source": [
    "### Section 3: Qualifikationsprofil"
   ]
  },
  {
   "cell_type": "code",
   "execution_count": 72,
   "metadata": {
    "scrolled": true
   },
   "outputs": [
    {
     "name": "stdout",
     "output_type": "stream",
     "text": [
      "147055\n"
     ]
    },
    {
     "data": {
      "text/plain": [
       "count    50451.000000\n",
       "mean         2.914808\n",
       "std          2.147919\n",
       "min          0.000000\n",
       "25%          1.000000\n",
       "50%          3.000000\n",
       "75%          4.000000\n",
       "max         15.000000\n",
       "Name: section3_fm_count, dtype: float64"
      ]
     },
     "execution_count": 72,
     "metadata": {},
     "output_type": "execute_result"
    }
   ],
   "source": [
    "df[\"section3_fm_count\"] = df[\"section3_malecount\"] + df[\"section3_femalecount\"]\n",
    "print(df[\"section3_fm_count\"].sum())\n",
    "df[\"section3_fm_count\"].describe()"
   ]
  },
  {
   "cell_type": "markdown",
   "metadata": {},
   "source": [
    "### female_fem_rel - Relativer Anteil weiblicher Stereotype an allen Stereotypen"
   ]
  },
  {
   "cell_type": "code",
   "execution_count": 73,
   "metadata": {},
   "outputs": [
    {
     "data": {
      "text/plain": [
       "count    50069.000000\n",
       "mean        51.660262\n",
       "std         22.175484\n",
       "min          0.000000\n",
       "25%         37.500000\n",
       "50%         50.000000\n",
       "75%         66.670000\n",
       "max        100.000000\n",
       "Name: sections_fem_rel, dtype: float64"
      ]
     },
     "execution_count": 73,
     "metadata": {},
     "output_type": "execute_result"
    }
   ],
   "source": [
    "df[\"sections_fem_rel\"] = round((df[\"sections_femalecount\"]/df[\"sections_fm_count\"])*100,2)\n",
    "df[\"sections_fem_rel\"].describe()"
   ]
  },
  {
   "cell_type": "markdown",
   "metadata": {},
   "source": [
    "### Unipolare Stereotype Skala"
   ]
  },
  {
   "cell_type": "code",
   "execution_count": 74,
   "metadata": {},
   "outputs": [],
   "source": [
    "import math\n",
    "\n",
    "def sigmoid(x):\n",
    "  return 1 / (1 + math.exp(-x))"
   ]
  },
  {
   "cell_type": "code",
   "execution_count": 75,
   "metadata": {},
   "outputs": [
    {
     "data": {
      "text/plain": [
       "0.5"
      ]
     },
     "execution_count": 75,
     "metadata": {},
     "output_type": "execute_result"
    }
   ],
   "source": [
    "sigmoid(0)"
   ]
  },
  {
   "cell_type": "code",
   "execution_count": 76,
   "metadata": {},
   "outputs": [],
   "source": [
    "df[\"sections_stereoscore\"] = df[\"sections_fmscore\"].apply(lambda x: sigmoid(x))"
   ]
  },
  {
   "cell_type": "code",
   "execution_count": null,
   "metadata": {},
   "outputs": [],
   "source": []
  },
  {
   "cell_type": "code",
   "execution_count": 77,
   "metadata": {},
   "outputs": [
    {
     "data": {
      "text/plain": [
       "<matplotlib.axes._subplots.AxesSubplot at 0x1a23b69dd8>"
      ]
     },
     "execution_count": 77,
     "metadata": {},
     "output_type": "execute_result"
    },
    {
     "data": {
      "image/png": "[encoded data removed]",
      "text/plain": [
       "<Figure size 432x288 with 1 Axes>"
      ]
     },
     "metadata": {
      "needs_background": "light"
     },
     "output_type": "display_data"
    }
   ],
   "source": [
    "df[\"sections_stereoscore\"].hist()"
   ]
  },
  {
   "cell_type": "code",
   "execution_count": 78,
   "metadata": {},
   "outputs": [],
   "source": [
    "from sklearn import preprocessing\n",
    "# Get column names first\n",
    "# names = df.columns"
   ]
  },
  {
   "cell_type": "markdown",
   "metadata": {},
   "source": [
    "scaler = preprocessing.StandardScaler()\n",
    "df[\"sections_femrel_std\"] = scaler.fit_transform(df[[\"sections_fem_rel\"]])\n",
    "#df[] = pd.DataFrame(scaled_df, columns=\"sections_femrel_std\")\n",
    "df[\"sections_femrel_std\"] = round(df[\"sections_femrel_std\"],4)"
   ]
  },
  {
   "cell_type": "markdown",
   "metadata": {},
   "source": [
    "df[\"sections_femrel_std\"] = (df[\"sections_fem_rel\"].dropna() - df[\"sections_fem_rel\"].mean(skipna=True)) / df[\"sections_fem_rel\"].std(skipna=True) "
   ]
  },
  {
   "cell_type": "code",
   "execution_count": 79,
   "metadata": {},
   "outputs": [],
   "source": [
    "# Zentrierung:\n",
    "df[\"sections_femrel_std\"] = df[\"sections_fem_rel\"].apply(lambda x: (x - df[\"sections_fem_rel\"].mean()))"
   ]
  },
  {
   "cell_type": "code",
   "execution_count": 80,
   "metadata": {
    "scrolled": true
   },
   "outputs": [
    {
     "data": {
      "text/plain": [
       "count    5.006900e+04\n",
       "mean    -9.781759e-15\n",
       "std      2.217548e+01\n",
       "min     -5.166026e+01\n",
       "25%     -1.416026e+01\n",
       "50%     -1.660262e+00\n",
       "75%      1.500974e+01\n",
       "max      4.833974e+01\n",
       "Name: sections_femrel_std, dtype: float64"
      ]
     },
     "execution_count": 80,
     "metadata": {},
     "output_type": "execute_result"
    }
   ],
   "source": [
    "df[\"sections_femrel_std\"].describe()"
   ]
  },
  {
   "cell_type": "code",
   "execution_count": 81,
   "metadata": {},
   "outputs": [],
   "source": [
    "#nach der Zentrierung werden absolute Werte verwendet:\n",
    "df[\"sections_femrel_std\"] = abs(df[\"sections_femrel_std\"])"
   ]
  },
  {
   "cell_type": "code",
   "execution_count": 82,
   "metadata": {
    "scrolled": true
   },
   "outputs": [
    {
     "data": {
      "text/plain": [
       "count    50069.000000\n",
       "mean        17.251750\n",
       "std         13.932813\n",
       "min          0.059738\n",
       "25%          6.669738\n",
       "50%         15.009738\n",
       "75%         23.339738\n",
       "max         51.660262\n",
       "Name: sections_femrel_std, dtype: float64"
      ]
     },
     "execution_count": 82,
     "metadata": {},
     "output_type": "execute_result"
    }
   ],
   "source": [
    "df[\"sections_femrel_std\"].describe()"
   ]
  },
  {
   "cell_type": "markdown",
   "metadata": {},
   "source": [
    "### Standardize"
   ]
  },
  {
   "cell_type": "code",
   "execution_count": 83,
   "metadata": {},
   "outputs": [],
   "source": [
    "def standardize(var):\n",
    "    std=round((var - var.mean()) / var.std(),2)\n",
    "    return std"
   ]
  },
  {
   "cell_type": "code",
   "execution_count": 84,
   "metadata": {
    "scrolled": true
   },
   "outputs": [],
   "source": [
    "df[\"sections_fmscore_std\"] = standardize(df[\"sections_fmscore\"]) "
   ]
  },
  {
   "cell_type": "code",
   "execution_count": 85,
   "metadata": {
    "scrolled": true
   },
   "outputs": [],
   "source": [
    "df[\"section2_fmscore_std\"] = standardize(df[\"section2_fmscore\"]) "
   ]
  },
  {
   "cell_type": "code",
   "execution_count": 86,
   "metadata": {
    "scrolled": true
   },
   "outputs": [],
   "source": [
    "df[\"section3_fmscore_std\"] = standardize(df[\"section3_fmscore\"]) "
   ]
  },
  {
   "cell_type": "code",
   "execution_count": 87,
   "metadata": {},
   "outputs": [
    {
     "data": {
      "text/plain": [
       "0"
      ]
     },
     "execution_count": 87,
     "metadata": {},
     "output_type": "execute_result"
    }
   ],
   "source": [
    "df[(df.duplicated(['Bundesland', \"sections_malecount\", \"sections_femalecount\",\n",
    "                   \"sections_fmscore\", \"kldb10_3\",'function_both_levels', \n",
    "                   'job_id', 'sections_str'], keep=False))][\"unique_id\"].sum()"
   ]
  },
  {
   "cell_type": "markdown",
   "metadata": {},
   "source": [
    "## Überflüssige/Doppelte Spalten löschen"
   ]
  },
  {
   "cell_type": "code",
   "execution_count": 88,
   "metadata": {
    "scrolled": true
   },
   "outputs": [
    {
     "name": "stdout",
     "output_type": "stream",
     "text": [
      "<class 'pandas.core.frame.DataFrame'>\n",
      "RangeIndex: 50451 entries, 0 to 50450\n",
      "Data columns (total 75 columns):\n",
      "unique_id                     50451 non-null int64\n",
      "title                         50451 non-null object\n",
      "job_company                   50451 non-null object\n",
      "company_link                  50451 non-null object\n",
      "job_location                  50451 non-null object\n",
      "contract_type                 50451 non-null object\n",
      "wrk_time                      50451 non-null object\n",
      "date                          50451 non-null object\n",
      "job_url                       50451 non-null object\n",
      "sections_str                  50451 non-null object\n",
      "urls                          50451 non-null object\n",
      "searches                      50451 non-null object\n",
      "job_count                     50451 non-null int64\n",
      "search                        50451 non-null object\n",
      "function_level_2              50451 non-null int64\n",
      "region                        50451 non-null int64\n",
      "company_name                  49880 non-null object\n",
      "company_location              49642 non-null object\n",
      "company_sector                22255 non-null object\n",
      "company_rating                20435 non-null float64\n",
      "company_rating_count          20301 non-null float64\n",
      "company_job_count             49072 non-null float64\n",
      "company_employee_count        25588 non-null object\n",
      "company_website               18843 non-null object\n",
      "company_metadatablock         35327 non-null object\n",
      "function_level2_label         50451 non-null object\n",
      "function_level1_label         50451 non-null object\n",
      "function_level_1              50451 non-null int64\n",
      "job_id                        50451 non-null int64\n",
      "sectionlength                 50451 non-null int64\n",
      "section_list                  50451 non-null object\n",
      "section1                      50451 non-null object\n",
      "section2                      47339 non-null object\n",
      "section3                      46923 non-null object\n",
      "section4                      46348 non-null object\n",
      "section5                      39989 non-null object\n",
      "section6                      53 non-null object\n",
      "function_both_levels          50451 non-null object\n",
      "function_both_levels_count    50451 non-null int64\n",
      "Führungskraft                 50451 non-null int64\n",
      "kldb10_2                      50249 non-null float64\n",
      "kldb10_3                      50155 non-null float64\n",
      "kldb10_4                      44511 non-null float64\n",
      "kldb10_2_label                50249 non-null object\n",
      "kldb10_3_label                50155 non-null object\n",
      "frauenanteil_mz14_kldb10_2    50249 non-null float64\n",
      "Frauenanteil_MZ14_kldb10_3    50155 non-null float64\n",
      "Bundesland                    50451 non-null object\n",
      "Vertragsart                   50451 non-null object\n",
      "Befristung                    50451 non-null object\n",
      "company_emp_count             23224 non-null float64\n",
      "company_emp_count_gendered    50451 non-null int64\n",
      "sections_wordcount            50451 non-null int64\n",
      "sections_femalecount          50451 non-null int64\n",
      "section1_femalecount          50451 non-null int64\n",
      "section2_femalecount          50451 non-null int64\n",
      "section3_femalecount          50451 non-null int64\n",
      "sections_malecount            50451 non-null int64\n",
      "section1_malecount            50451 non-null int64\n",
      "section2_malecount            50451 non-null int64\n",
      "section3_malecount            50451 non-null int64\n",
      "sections_fmscore              50451 non-null int64\n",
      "section1_fmscore              50451 non-null int64\n",
      "section2_fmscore              50451 non-null int64\n",
      "section3_fmscore              50451 non-null int64\n",
      "sections_fm_count             50451 non-null int64\n",
      "section1_fm_count             50451 non-null int64\n",
      "section2_fm_count             50451 non-null int64\n",
      "section3_fm_count             50451 non-null int64\n",
      "sections_fem_rel              50069 non-null float64\n",
      "sections_stereoscore          50451 non-null float64\n",
      "sections_femrel_std           50069 non-null float64\n",
      "sections_fmscore_std          50451 non-null float64\n",
      "section2_fmscore_std          50451 non-null float64\n",
      "section3_fmscore_std          50451 non-null float64\n",
      "dtypes: float64(15), int64(27), object(33)\n",
      "memory usage: 28.9+ MB\n"
     ]
    }
   ],
   "source": [
    "df.info()"
   ]
  },
  {
   "cell_type": "code",
   "execution_count": 89,
   "metadata": {},
   "outputs": [],
   "source": [
    "df.drop(\"region\", axis=1, inplace=True)\n",
    "df.drop(\"company_metadatablock\", axis=1, inplace=True)\n",
    "df.drop(\"section_list\", axis=1, inplace=True)\n",
    "df.drop(\"sections_str\", axis=1, inplace=True)\n",
    "df.drop(\"section1\", axis=1, inplace=True)\n",
    "df.drop(\"section2\", axis=1, inplace=True)\n",
    "df.drop(\"section3\", axis=1, inplace=True)\n",
    "df.drop(\"section4\", axis=1, inplace=True)\n",
    "df.drop(\"section5\", axis=1, inplace=True)\n",
    "df.drop(\"section6\", axis=1, inplace=True)"
   ]
  },
  {
   "cell_type": "markdown",
   "metadata": {},
   "source": [
    "## Datensatz speichern"
   ]
  },
  {
   "cell_type": "code",
   "execution_count": 90,
   "metadata": {},
   "outputs": [],
   "source": [
    "df.to_csv(\"Sections_scored_schlank_2019-12-15.csv\", index=False, sep=\";\", encoding='utf-8')"
   ]
  },
  {
   "cell_type": "markdown",
   "metadata": {},
   "source": [
    "### Wieder einlesen\n",
    "\n",
    "#df = pd.read_csv(\"Sections_scored_schlank_2019-10-03.csv\", sep=\";\")"
   ]
  }
 ],
 "metadata": {
  "kernelspec": {
   "display_name": "Python 3",
   "language": "python",
   "name": "python3"
  },
  "language_info": {
   "codemirror_mode": {
    "name": "ipython",
    "version": 3
   },
   "file_extension": ".py",
   "mimetype": "text/x-python",
   "name": "python",
   "nbconvert_exporter": "python",
   "pygments_lexer": "ipython3",
   "version": "3.7.3"
  },
  "toc": {
   "base_numbering": 1,
   "nav_menu": {},
   "number_sections": true,
   "sideBar": true,
   "skip_h1_title": false,
   "title_cell": "Table of Contents",
   "title_sidebar": "Contents",
   "toc_cell": false,
   "toc_position": {
    "height": "calc(100% - 180px)",
    "left": "10px",
    "top": "150px",
    "width": "377px"
   },
   "toc_section_display": true,
   "toc_window_display": true
  }
 },
 "nbformat": 4,
 "nbformat_minor": 2
}
